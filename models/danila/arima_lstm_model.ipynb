{
 "cells": [
  {
   "cell_type": "markdown",
   "metadata": {},
   "source": [
    "# Preparing data"
   ]
  },
  {
   "cell_type": "code",
   "execution_count": 1,
   "metadata": {},
   "outputs": [],
   "source": [
    "import yfinance as yf\n",
    "import pandas as pd\n",
    "from datetime import date, timedelta\n",
    "import datetime"
   ]
  },
  {
   "cell_type": "code",
   "execution_count": 2,
   "metadata": {
    "scrolled": true
   },
   "outputs": [
    {
     "name": "stdout",
     "output_type": "stream",
     "text": [
      "[*********************100%***********************]  1 of 1 completed\n"
     ]
    },
    {
     "data": {
      "text/html": [
       "<div>\n",
       "<style scoped>\n",
       "    .dataframe tbody tr th:only-of-type {\n",
       "        vertical-align: middle;\n",
       "    }\n",
       "\n",
       "    .dataframe tbody tr th {\n",
       "        vertical-align: top;\n",
       "    }\n",
       "\n",
       "    .dataframe thead th {\n",
       "        text-align: right;\n",
       "    }\n",
       "</style>\n",
       "<table border=\"1\" class=\"dataframe\">\n",
       "  <thead>\n",
       "    <tr style=\"text-align: right;\">\n",
       "      <th></th>\n",
       "      <th>Open</th>\n",
       "      <th>High</th>\n",
       "      <th>Low</th>\n",
       "      <th>Close</th>\n",
       "      <th>Adj Close</th>\n",
       "      <th>Volume</th>\n",
       "    </tr>\n",
       "    <tr>\n",
       "      <th>Date</th>\n",
       "      <th></th>\n",
       "      <th></th>\n",
       "      <th></th>\n",
       "      <th></th>\n",
       "      <th></th>\n",
       "      <th></th>\n",
       "    </tr>\n",
       "  </thead>\n",
       "  <tbody>\n",
       "    <tr>\n",
       "      <th>2000-08-30</th>\n",
       "      <td>4.650</td>\n",
       "      <td>4.815</td>\n",
       "      <td>4.630</td>\n",
       "      <td>4.805</td>\n",
       "      <td>4.805</td>\n",
       "      <td>34954</td>\n",
       "    </tr>\n",
       "    <tr>\n",
       "      <th>2000-08-31</th>\n",
       "      <td>4.820</td>\n",
       "      <td>4.870</td>\n",
       "      <td>4.740</td>\n",
       "      <td>4.780</td>\n",
       "      <td>4.780</td>\n",
       "      <td>25787</td>\n",
       "    </tr>\n",
       "    <tr>\n",
       "      <th>2000-09-01</th>\n",
       "      <td>4.750</td>\n",
       "      <td>4.860</td>\n",
       "      <td>4.750</td>\n",
       "      <td>4.835</td>\n",
       "      <td>4.835</td>\n",
       "      <td>113</td>\n",
       "    </tr>\n",
       "    <tr>\n",
       "      <th>2000-09-05</th>\n",
       "      <td>4.850</td>\n",
       "      <td>4.975</td>\n",
       "      <td>4.840</td>\n",
       "      <td>4.960</td>\n",
       "      <td>4.960</td>\n",
       "      <td>26096</td>\n",
       "    </tr>\n",
       "    <tr>\n",
       "      <th>2000-09-06</th>\n",
       "      <td>4.990</td>\n",
       "      <td>5.110</td>\n",
       "      <td>4.960</td>\n",
       "      <td>5.065</td>\n",
       "      <td>5.065</td>\n",
       "      <td>32764</td>\n",
       "    </tr>\n",
       "    <tr>\n",
       "      <th>...</th>\n",
       "      <td>...</td>\n",
       "      <td>...</td>\n",
       "      <td>...</td>\n",
       "      <td>...</td>\n",
       "      <td>...</td>\n",
       "      <td>...</td>\n",
       "    </tr>\n",
       "    <tr>\n",
       "      <th>2023-10-02</th>\n",
       "      <td>2.958</td>\n",
       "      <td>2.958</td>\n",
       "      <td>2.835</td>\n",
       "      <td>2.840</td>\n",
       "      <td>2.840</td>\n",
       "      <td>124338</td>\n",
       "    </tr>\n",
       "    <tr>\n",
       "      <th>2023-10-03</th>\n",
       "      <td>2.842</td>\n",
       "      <td>2.966</td>\n",
       "      <td>2.820</td>\n",
       "      <td>2.949</td>\n",
       "      <td>2.949</td>\n",
       "      <td>128578</td>\n",
       "    </tr>\n",
       "    <tr>\n",
       "      <th>2023-10-04</th>\n",
       "      <td>2.940</td>\n",
       "      <td>3.055</td>\n",
       "      <td>2.935</td>\n",
       "      <td>2.962</td>\n",
       "      <td>2.962</td>\n",
       "      <td>155568</td>\n",
       "    </tr>\n",
       "    <tr>\n",
       "      <th>2023-10-05</th>\n",
       "      <td>2.988</td>\n",
       "      <td>3.205</td>\n",
       "      <td>2.965</td>\n",
       "      <td>3.166</td>\n",
       "      <td>3.166</td>\n",
       "      <td>220407</td>\n",
       "    </tr>\n",
       "    <tr>\n",
       "      <th>2023-10-06</th>\n",
       "      <td>3.183</td>\n",
       "      <td>3.364</td>\n",
       "      <td>3.166</td>\n",
       "      <td>3.338</td>\n",
       "      <td>3.338</td>\n",
       "      <td>220407</td>\n",
       "    </tr>\n",
       "  </tbody>\n",
       "</table>\n",
       "<p>5801 rows × 6 columns</p>\n",
       "</div>"
      ],
      "text/plain": [
       "             Open   High    Low  Close  Adj Close  Volume\n",
       "Date                                                     \n",
       "2000-08-30  4.650  4.815  4.630  4.805      4.805   34954\n",
       "2000-08-31  4.820  4.870  4.740  4.780      4.780   25787\n",
       "2000-09-01  4.750  4.860  4.750  4.835      4.835     113\n",
       "2000-09-05  4.850  4.975  4.840  4.960      4.960   26096\n",
       "2000-09-06  4.990  5.110  4.960  5.065      5.065   32764\n",
       "...           ...    ...    ...    ...        ...     ...\n",
       "2023-10-02  2.958  2.958  2.835  2.840      2.840  124338\n",
       "2023-10-03  2.842  2.966  2.820  2.949      2.949  128578\n",
       "2023-10-04  2.940  3.055  2.935  2.962      2.962  155568\n",
       "2023-10-05  2.988  3.205  2.965  3.166      3.166  220407\n",
       "2023-10-06  3.183  3.364  3.166  3.338      3.338  220407\n",
       "\n",
       "[5801 rows x 6 columns]"
      ]
     },
     "execution_count": 2,
     "metadata": {},
     "output_type": "execute_result"
    }
   ],
   "source": [
    "tickers_name = \"NG=F\"\n",
    "data = yf.download(tickers = tickers_name, period = \"100y\", interval = \"1d\")\n",
    "data.to_csv(tickers_name + r\"_source_dataset.csv\") \n",
    "data"
   ]
  },
  {
   "cell_type": "code",
   "execution_count": 3,
   "metadata": {},
   "outputs": [
    {
     "data": {
      "text/html": [
       "<div>\n",
       "<style scoped>\n",
       "    .dataframe tbody tr th:only-of-type {\n",
       "        vertical-align: middle;\n",
       "    }\n",
       "\n",
       "    .dataframe tbody tr th {\n",
       "        vertical-align: top;\n",
       "    }\n",
       "\n",
       "    .dataframe thead th {\n",
       "        text-align: right;\n",
       "    }\n",
       "</style>\n",
       "<table border=\"1\" class=\"dataframe\">\n",
       "  <thead>\n",
       "    <tr style=\"text-align: right;\">\n",
       "      <th></th>\n",
       "      <th>Date</th>\n",
       "      <th>Open</th>\n",
       "      <th>High</th>\n",
       "      <th>Low</th>\n",
       "      <th>Close</th>\n",
       "      <th>Adj Close</th>\n",
       "      <th>Volume</th>\n",
       "    </tr>\n",
       "  </thead>\n",
       "  <tbody>\n",
       "    <tr>\n",
       "      <th>0</th>\n",
       "      <td>2000-08-30</td>\n",
       "      <td>4.650</td>\n",
       "      <td>4.815</td>\n",
       "      <td>4.630</td>\n",
       "      <td>4.805</td>\n",
       "      <td>4.805</td>\n",
       "      <td>34954</td>\n",
       "    </tr>\n",
       "    <tr>\n",
       "      <th>1</th>\n",
       "      <td>2000-08-31</td>\n",
       "      <td>4.820</td>\n",
       "      <td>4.870</td>\n",
       "      <td>4.740</td>\n",
       "      <td>4.780</td>\n",
       "      <td>4.780</td>\n",
       "      <td>25787</td>\n",
       "    </tr>\n",
       "    <tr>\n",
       "      <th>2</th>\n",
       "      <td>2000-09-01</td>\n",
       "      <td>4.750</td>\n",
       "      <td>4.860</td>\n",
       "      <td>4.750</td>\n",
       "      <td>4.835</td>\n",
       "      <td>4.835</td>\n",
       "      <td>113</td>\n",
       "    </tr>\n",
       "    <tr>\n",
       "      <th>3</th>\n",
       "      <td>2000-09-05</td>\n",
       "      <td>4.850</td>\n",
       "      <td>4.975</td>\n",
       "      <td>4.840</td>\n",
       "      <td>4.960</td>\n",
       "      <td>4.960</td>\n",
       "      <td>26096</td>\n",
       "    </tr>\n",
       "    <tr>\n",
       "      <th>4</th>\n",
       "      <td>2000-09-06</td>\n",
       "      <td>4.990</td>\n",
       "      <td>5.110</td>\n",
       "      <td>4.960</td>\n",
       "      <td>5.065</td>\n",
       "      <td>5.065</td>\n",
       "      <td>32764</td>\n",
       "    </tr>\n",
       "    <tr>\n",
       "      <th>...</th>\n",
       "      <td>...</td>\n",
       "      <td>...</td>\n",
       "      <td>...</td>\n",
       "      <td>...</td>\n",
       "      <td>...</td>\n",
       "      <td>...</td>\n",
       "      <td>...</td>\n",
       "    </tr>\n",
       "    <tr>\n",
       "      <th>5696</th>\n",
       "      <td>2023-05-09</td>\n",
       "      <td>2.249</td>\n",
       "      <td>2.297</td>\n",
       "      <td>2.184</td>\n",
       "      <td>2.267</td>\n",
       "      <td>2.267</td>\n",
       "      <td>134534</td>\n",
       "    </tr>\n",
       "    <tr>\n",
       "      <th>5697</th>\n",
       "      <td>2023-05-10</td>\n",
       "      <td>2.262</td>\n",
       "      <td>2.265</td>\n",
       "      <td>2.160</td>\n",
       "      <td>2.191</td>\n",
       "      <td>2.191</td>\n",
       "      <td>126485</td>\n",
       "    </tr>\n",
       "    <tr>\n",
       "      <th>5698</th>\n",
       "      <td>2023-05-11</td>\n",
       "      <td>2.182</td>\n",
       "      <td>2.255</td>\n",
       "      <td>2.165</td>\n",
       "      <td>2.190</td>\n",
       "      <td>2.190</td>\n",
       "      <td>119033</td>\n",
       "    </tr>\n",
       "    <tr>\n",
       "      <th>5699</th>\n",
       "      <td>2023-05-12</td>\n",
       "      <td>2.191</td>\n",
       "      <td>2.335</td>\n",
       "      <td>2.147</td>\n",
       "      <td>2.266</td>\n",
       "      <td>2.266</td>\n",
       "      <td>159351</td>\n",
       "    </tr>\n",
       "    <tr>\n",
       "      <th>5700</th>\n",
       "      <td>2023-05-15</td>\n",
       "      <td>2.265</td>\n",
       "      <td>2.384</td>\n",
       "      <td>2.250</td>\n",
       "      <td>2.375</td>\n",
       "      <td>2.375</td>\n",
       "      <td>142753</td>\n",
       "    </tr>\n",
       "  </tbody>\n",
       "</table>\n",
       "<p>5701 rows × 7 columns</p>\n",
       "</div>"
      ],
      "text/plain": [
       "            Date   Open   High    Low  Close  Adj Close  Volume\n",
       "0     2000-08-30  4.650  4.815  4.630  4.805      4.805   34954\n",
       "1     2000-08-31  4.820  4.870  4.740  4.780      4.780   25787\n",
       "2     2000-09-01  4.750  4.860  4.750  4.835      4.835     113\n",
       "3     2000-09-05  4.850  4.975  4.840  4.960      4.960   26096\n",
       "4     2000-09-06  4.990  5.110  4.960  5.065      5.065   32764\n",
       "...          ...    ...    ...    ...    ...        ...     ...\n",
       "5696  2023-05-09  2.249  2.297  2.184  2.267      2.267  134534\n",
       "5697  2023-05-10  2.262  2.265  2.160  2.191      2.191  126485\n",
       "5698  2023-05-11  2.182  2.255  2.165  2.190      2.190  119033\n",
       "5699  2023-05-12  2.191  2.335  2.147  2.266      2.266  159351\n",
       "5700  2023-05-15  2.265  2.384  2.250  2.375      2.375  142753\n",
       "\n",
       "[5701 rows x 7 columns]"
      ]
     },
     "execution_count": 3,
     "metadata": {},
     "output_type": "execute_result"
    }
   ],
   "source": [
    "df_predicted = pd.read_csv(tickers_name + \"_source_dataset.csv\")\n",
    "NTest = 100 # Возьмем тест - 100 дней\n",
    "df_predicted = df_predicted[:-NTest]\n",
    "df_predicted.to_csv(tickers_name + r\"_dataset_for_predicte.csv\", index = False) \n",
    "df_predicted"
   ]
  },
  {
   "cell_type": "markdown",
   "metadata": {},
   "source": [
    "# ARIMA model"
   ]
  },
  {
   "cell_type": "code",
   "execution_count": 4,
   "metadata": {},
   "outputs": [],
   "source": [
    "import numpy as np \n",
    "import pandas as pd \n",
    "import matplotlib.pyplot as plt\n",
    "from pandas.plotting import lag_plot\n",
    "from datetime import datetime\n",
    "from statsmodels.tsa.arima.model import ARIMA\n",
    "from sklearn.metrics import mean_squared_error"
   ]
  },
  {
   "cell_type": "code",
   "execution_count": 5,
   "metadata": {},
   "outputs": [
    {
     "data": {
      "text/html": [
       "<div>\n",
       "<style scoped>\n",
       "    .dataframe tbody tr th:only-of-type {\n",
       "        vertical-align: middle;\n",
       "    }\n",
       "\n",
       "    .dataframe tbody tr th {\n",
       "        vertical-align: top;\n",
       "    }\n",
       "\n",
       "    .dataframe thead th {\n",
       "        text-align: right;\n",
       "    }\n",
       "</style>\n",
       "<table border=\"1\" class=\"dataframe\">\n",
       "  <thead>\n",
       "    <tr style=\"text-align: right;\">\n",
       "      <th></th>\n",
       "      <th>Date</th>\n",
       "      <th>Open</th>\n",
       "      <th>High</th>\n",
       "      <th>Low</th>\n",
       "      <th>Close</th>\n",
       "      <th>Adj Close</th>\n",
       "      <th>Volume</th>\n",
       "    </tr>\n",
       "  </thead>\n",
       "  <tbody>\n",
       "    <tr>\n",
       "      <th>0</th>\n",
       "      <td>2000-08-30</td>\n",
       "      <td>4.65</td>\n",
       "      <td>4.815</td>\n",
       "      <td>4.63</td>\n",
       "      <td>4.805</td>\n",
       "      <td>4.805</td>\n",
       "      <td>34954</td>\n",
       "    </tr>\n",
       "    <tr>\n",
       "      <th>1</th>\n",
       "      <td>2000-08-31</td>\n",
       "      <td>4.82</td>\n",
       "      <td>4.870</td>\n",
       "      <td>4.74</td>\n",
       "      <td>4.780</td>\n",
       "      <td>4.780</td>\n",
       "      <td>25787</td>\n",
       "    </tr>\n",
       "    <tr>\n",
       "      <th>2</th>\n",
       "      <td>2000-09-01</td>\n",
       "      <td>4.75</td>\n",
       "      <td>4.860</td>\n",
       "      <td>4.75</td>\n",
       "      <td>4.835</td>\n",
       "      <td>4.835</td>\n",
       "      <td>113</td>\n",
       "    </tr>\n",
       "    <tr>\n",
       "      <th>3</th>\n",
       "      <td>2000-09-05</td>\n",
       "      <td>4.85</td>\n",
       "      <td>4.975</td>\n",
       "      <td>4.84</td>\n",
       "      <td>4.960</td>\n",
       "      <td>4.960</td>\n",
       "      <td>26096</td>\n",
       "    </tr>\n",
       "    <tr>\n",
       "      <th>4</th>\n",
       "      <td>2000-09-06</td>\n",
       "      <td>4.99</td>\n",
       "      <td>5.110</td>\n",
       "      <td>4.96</td>\n",
       "      <td>5.065</td>\n",
       "      <td>5.065</td>\n",
       "      <td>32764</td>\n",
       "    </tr>\n",
       "  </tbody>\n",
       "</table>\n",
       "</div>"
      ],
      "text/plain": [
       "         Date  Open   High   Low  Close  Adj Close  Volume\n",
       "0  2000-08-30  4.65  4.815  4.63  4.805      4.805   34954\n",
       "1  2000-08-31  4.82  4.870  4.74  4.780      4.780   25787\n",
       "2  2000-09-01  4.75  4.860  4.75  4.835      4.835     113\n",
       "3  2000-09-05  4.85  4.975  4.84  4.960      4.960   26096\n",
       "4  2000-09-06  4.99  5.110  4.96  5.065      5.065   32764"
      ]
     },
     "execution_count": 5,
     "metadata": {},
     "output_type": "execute_result"
    }
   ],
   "source": [
    "df = pd.read_csv(tickers_name + \"_dataset_for_predicte.csv\")\n",
    "df.head(5)"
   ]
  },
  {
   "cell_type": "code",
   "execution_count": 6,
   "metadata": {},
   "outputs": [
    {
     "data": {
      "image/png": "[encoded data removed]",
      "text/plain": [
       "<Figure size 640x480 with 1 Axes>"
      ]
     },
     "metadata": {},
     "output_type": "display_data"
    }
   ],
   "source": [
    "plt.figure()\n",
    "lag_plot(df['Open'], lag=3)\n",
    "plt.title(tickers_name + \" price autocorrelation with lag = 3\")\n",
    "plt.show()"
   ]
  },
  {
   "cell_type": "code",
   "execution_count": 7,
   "metadata": {},
   "outputs": [
    {
     "data": {
      "image/png": "[encoded data removed]",
      "text/plain": [
       "<Figure size 640x480 with 1 Axes>"
      ]
     },
     "metadata": {},
     "output_type": "display_data"
    }
   ],
   "source": [
    "dfloc = df.loc[:, 'Date']\n",
    "plt.plot(dfloc, df[\"Close\"])\n",
    "plt.xticks(np.arange(0, len(df), 365), rotation=45)\n",
    "plt.title(tickers_name + \" price over time\")\n",
    "plt.xlabel(\"Time\")\n",
    "plt.ylabel(\"Price\")\n",
    "plt.show()"
   ]
  },
  {
   "cell_type": "code",
   "execution_count": 9,
   "metadata": {
    "scrolled": true
   },
   "outputs": [
    {
     "name": "stdout",
     "output_type": "stream",
     "text": [
      "0 / 100\n",
      "1 / 100\n",
      "2 / 100\n",
      "3 / 100\n",
      "4 / 100\n"
     ]
    },
    {
     "name": "stderr",
     "output_type": "stream",
     "text": [
      "/Users/danilazykin/jupyther/lib/python3.9/site-packages/statsmodels/base/model.py:607: ConvergenceWarning: Maximum Likelihood optimization failed to converge. Check mle_retvals\n",
      "  warnings.warn(\"Maximum Likelihood optimization failed to \"\n"
     ]
    },
    {
     "name": "stdout",
     "output_type": "stream",
     "text": [
      "5 / 100\n",
      "6 / 100\n",
      "7 / 100\n",
      "8 / 100\n",
      "9 / 100\n",
      "10 / 100\n",
      "11 / 100\n",
      "12 / 100\n",
      "13 / 100\n",
      "14 / 100\n",
      "15 / 100\n",
      "16 / 100\n",
      "17 / 100\n",
      "18 / 100\n",
      "19 / 100\n",
      "20 / 100\n",
      "21 / 100\n"
     ]
    },
    {
     "name": "stderr",
     "output_type": "stream",
     "text": [
      "/Users/danilazykin/jupyther/lib/python3.9/site-packages/statsmodels/base/model.py:607: ConvergenceWarning: Maximum Likelihood optimization failed to converge. Check mle_retvals\n",
      "  warnings.warn(\"Maximum Likelihood optimization failed to \"\n"
     ]
    },
    {
     "name": "stdout",
     "output_type": "stream",
     "text": [
      "22 / 100\n",
      "23 / 100\n",
      "24 / 100\n"
     ]
    },
    {
     "name": "stderr",
     "output_type": "stream",
     "text": [
      "/Users/danilazykin/jupyther/lib/python3.9/site-packages/statsmodels/base/model.py:607: ConvergenceWarning: Maximum Likelihood optimization failed to converge. Check mle_retvals\n",
      "  warnings.warn(\"Maximum Likelihood optimization failed to \"\n"
     ]
    },
    {
     "name": "stdout",
     "output_type": "stream",
     "text": [
      "25 / 100\n",
      "26 / 100\n",
      "27 / 100\n"
     ]
    },
    {
     "name": "stderr",
     "output_type": "stream",
     "text": [
      "/Users/danilazykin/jupyther/lib/python3.9/site-packages/statsmodels/base/model.py:607: ConvergenceWarning: Maximum Likelihood optimization failed to converge. Check mle_retvals\n",
      "  warnings.warn(\"Maximum Likelihood optimization failed to \"\n"
     ]
    },
    {
     "name": "stdout",
     "output_type": "stream",
     "text": [
      "28 / 100\n",
      "29 / 100\n",
      "30 / 100\n",
      "31 / 100\n",
      "32 / 100\n",
      "33 / 100\n",
      "34 / 100\n",
      "35 / 100\n",
      "36 / 100\n"
     ]
    },
    {
     "name": "stderr",
     "output_type": "stream",
     "text": [
      "/Users/danilazykin/jupyther/lib/python3.9/site-packages/statsmodels/base/model.py:607: ConvergenceWarning: Maximum Likelihood optimization failed to converge. Check mle_retvals\n",
      "  warnings.warn(\"Maximum Likelihood optimization failed to \"\n"
     ]
    },
    {
     "name": "stdout",
     "output_type": "stream",
     "text": [
      "37 / 100\n",
      "38 / 100\n",
      "39 / 100\n",
      "40 / 100\n",
      "41 / 100\n"
     ]
    },
    {
     "name": "stderr",
     "output_type": "stream",
     "text": [
      "/Users/danilazykin/jupyther/lib/python3.9/site-packages/statsmodels/base/model.py:607: ConvergenceWarning: Maximum Likelihood optimization failed to converge. Check mle_retvals\n",
      "  warnings.warn(\"Maximum Likelihood optimization failed to \"\n"
     ]
    },
    {
     "name": "stdout",
     "output_type": "stream",
     "text": [
      "42 / 100\n",
      "43 / 100\n"
     ]
    },
    {
     "name": "stderr",
     "output_type": "stream",
     "text": [
      "/Users/danilazykin/jupyther/lib/python3.9/site-packages/statsmodels/base/model.py:607: ConvergenceWarning: Maximum Likelihood optimization failed to converge. Check mle_retvals\n",
      "  warnings.warn(\"Maximum Likelihood optimization failed to \"\n"
     ]
    },
    {
     "name": "stdout",
     "output_type": "stream",
     "text": [
      "44 / 100\n",
      "45 / 100\n",
      "46 / 100\n",
      "47 / 100\n",
      "48 / 100\n",
      "49 / 100\n",
      "50 / 100\n",
      "51 / 100\n",
      "52 / 100\n",
      "53 / 100\n",
      "54 / 100\n"
     ]
    },
    {
     "name": "stderr",
     "output_type": "stream",
     "text": [
      "/Users/danilazykin/jupyther/lib/python3.9/site-packages/statsmodels/base/model.py:607: ConvergenceWarning: Maximum Likelihood optimization failed to converge. Check mle_retvals\n",
      "  warnings.warn(\"Maximum Likelihood optimization failed to \"\n"
     ]
    },
    {
     "name": "stdout",
     "output_type": "stream",
     "text": [
      "55 / 100\n",
      "56 / 100\n",
      "57 / 100\n",
      "58 / 100\n",
      "59 / 100\n",
      "60 / 100\n",
      "61 / 100\n",
      "62 / 100\n",
      "63 / 100\n",
      "64 / 100\n",
      "65 / 100\n",
      "66 / 100\n",
      "67 / 100\n",
      "68 / 100\n",
      "69 / 100\n",
      "70 / 100\n",
      "71 / 100\n",
      "72 / 100\n",
      "73 / 100\n",
      "74 / 100\n",
      "75 / 100\n",
      "76 / 100\n",
      "77 / 100\n",
      "78 / 100\n",
      "79 / 100\n",
      "80 / 100\n",
      "81 / 100\n"
     ]
    },
    {
     "name": "stderr",
     "output_type": "stream",
     "text": [
      "/Users/danilazykin/jupyther/lib/python3.9/site-packages/statsmodels/base/model.py:607: ConvergenceWarning: Maximum Likelihood optimization failed to converge. Check mle_retvals\n",
      "  warnings.warn(\"Maximum Likelihood optimization failed to \"\n"
     ]
    },
    {
     "name": "stdout",
     "output_type": "stream",
     "text": [
      "82 / 100\n",
      "83 / 100\n",
      "84 / 100\n",
      "85 / 100\n",
      "86 / 100\n",
      "87 / 100\n",
      "88 / 100\n",
      "89 / 100\n",
      "90 / 100\n",
      "91 / 100\n"
     ]
    },
    {
     "name": "stderr",
     "output_type": "stream",
     "text": [
      "/Users/danilazykin/jupyther/lib/python3.9/site-packages/statsmodels/base/model.py:607: ConvergenceWarning: Maximum Likelihood optimization failed to converge. Check mle_retvals\n",
      "  warnings.warn(\"Maximum Likelihood optimization failed to \"\n"
     ]
    },
    {
     "name": "stdout",
     "output_type": "stream",
     "text": [
      "92 / 100\n",
      "93 / 100\n",
      "94 / 100\n"
     ]
    },
    {
     "name": "stderr",
     "output_type": "stream",
     "text": [
      "/Users/danilazykin/jupyther/lib/python3.9/site-packages/statsmodels/base/model.py:607: ConvergenceWarning: Maximum Likelihood optimization failed to converge. Check mle_retvals\n",
      "  warnings.warn(\"Maximum Likelihood optimization failed to \"\n"
     ]
    },
    {
     "name": "stdout",
     "output_type": "stream",
     "text": [
      "95 / 100\n",
      "96 / 100\n",
      "97 / 100\n",
      "98 / 100\n",
      "99 / 100\n",
      "Testing Mean Squared Error is 0.031083059397024448\n"
     ]
    }
   ],
   "source": [
    "# 1: Open, 2: High, 3: Low, 4: Close\n",
    "train_data, test_data = df[:-NTest], df[-NTest:]\n",
    "\n",
    "train_idx = df.index <= train_data.index[-1]\n",
    "test_idx = df.index > train_data.index[-1]\n",
    "\n",
    "training_data = train_data['Close'].values\n",
    "test_data = test_data['Close'].values\n",
    "\n",
    "history = [x for x in training_data]\n",
    "model_predictions = []\n",
    "N_test_observations = len(test_data)\n",
    "\n",
    "for time_point in range(N_test_observations):\n",
    "    print(time_point, \"/\", N_test_observations)\n",
    "    model = ARIMA(history, order=(4,1,0))\n",
    "    model_fit = model.fit()\n",
    "    output = model_fit.forecast()\n",
    "    yhat = output[0]\n",
    "    model_predictions.append(yhat)\n",
    "    true_test_value = test_data[time_point]\n",
    "    history.append(true_test_value)\n",
    "\n",
    "MSE_error = mean_squared_error(test_data, model_predictions)\n",
    "print('Testing Mean Squared Error is {}'.format(MSE_error))"
   ]
  },
  {
   "cell_type": "code",
   "execution_count": 10,
   "metadata": {},
   "outputs": [
    {
     "data": {
      "text/plain": [
       "2.369959523978584"
      ]
     },
     "execution_count": 10,
     "metadata": {},
     "output_type": "execute_result"
    }
   ],
   "source": [
    "model = ARIMA(history, order=(4,1,0))\n",
    "model_fit = model.fit()\n",
    "output = model_fit.forecast()\n",
    "yhat = output[0]\n",
    "yhat"
   ]
  },
  {
   "cell_type": "code",
   "execution_count": 11,
   "metadata": {},
   "outputs": [],
   "source": [
    "model_fit.save(tickers_name + '_ARIMA_model')"
   ]
  },
  {
   "cell_type": "code",
   "execution_count": 12,
   "metadata": {},
   "outputs": [],
   "source": [
    "from statsmodels.tsa.arima.model import ARIMAResults\n",
    "loaded = ARIMAResults.load(tickers_name + '_ARIMA_model')"
   ]
  },
  {
   "cell_type": "code",
   "execution_count": 13,
   "metadata": {},
   "outputs": [
    {
     "data": {
      "image/png": "[encoded data removed]",
      "text/plain": [
       "<Figure size 640x480 with 1 Axes>"
      ]
     },
     "metadata": {},
     "output_type": "display_data"
    }
   ],
   "source": [
    "test_set_range = df[-NTest:]\n",
    "\n",
    "dfloc = test_set_range.loc[:, 'Date']\n",
    "plt.plot(dfloc,test_set_range.Open.values, color = 'red', label = 'Real Open Price')\n",
    "plt.plot(dfloc,model_predictions, color = 'blue', label = 'Predicted Open Price')\n",
    "\n",
    "plt.xticks(np.arange(0,len(test_set_range),100), rotation=45)\n",
    "plt.title(tickers_name + ' Price Prediction')\n",
    "plt.xlabel('Time')\n",
    "plt.ylabel(tickers_name + ' Price')\n",
    "plt.legend()\n",
    "plt.show()"
   ]
  },
  {
   "cell_type": "code",
   "execution_count": 14,
   "metadata": {},
   "outputs": [],
   "source": [
    "predicted_prices_df = pd.DataFrame(model_predictions, columns = ['Close'])\n",
    "predicted_prices_df.to_csv (tickers_name + r'_ARIMA_model_price_prediction.csv', index = False, header=True)"
   ]
  },
  {
   "cell_type": "markdown",
   "metadata": {},
   "source": [
    "# LSTM model"
   ]
  },
  {
   "cell_type": "code",
   "execution_count": 15,
   "metadata": {},
   "outputs": [
    {
     "name": "stderr",
     "output_type": "stream",
     "text": [
      "2023-10-07 18:02:05.221711: I tensorflow/core/platform/cpu_feature_guard.cc:182] This TensorFlow binary is optimized to use available CPU instructions in performance-critical operations.\n",
      "To enable the following instructions: AVX2 FMA, in other operations, rebuild TensorFlow with the appropriate compiler flags.\n"
     ]
    },
    {
     "data": {
      "text/html": [
       "<details>\n",
       "<summary>Click to view session information</summary>\n",
       "<pre>\n",
       "-----\n",
       "keras               2.13.1\n",
       "matplotlib          3.5.2\n",
       "numpy               1.23.1\n",
       "pandas              1.4.4\n",
       "plotly              5.17.0\n",
       "session_info        1.0.0\n",
       "sklearn             1.3.1\n",
       "statsmodels         0.14.0\n",
       "yfinance            0.1.81\n",
       "-----\n",
       "</pre>\n",
       "<details>\n",
       "<summary>Click to view modules imported as dependencies</summary>\n",
       "<pre>\n",
       "PIL                                         10.0.1\n",
       "absl                                        NA\n",
       "anyio                                       NA\n",
       "appdirs                                     1.4.4\n",
       "appnope                                     0.1.3\n",
       "arrow                                       1.2.3\n",
       "asttokens                                   NA\n",
       "astunparse                                  1.6.3\n",
       "attr                                        23.1.0\n",
       "attrs                                       23.1.0\n",
       "babel                                       2.12.1\n",
       "backcall                                    0.2.0\n",
       "certifi                                     2023.07.22\n",
       "cffi                                        1.15.1\n",
       "charset_normalizer                          3.2.0\n",
       "comm                                        0.1.4\n",
       "cycler                                      0.10.0\n",
       "cython_runtime                              NA\n",
       "dab0eaeee8bfae79490a0d4f23f5ad820bb199d8    NA\n",
       "dateutil                                    2.8.2\n",
       "debugpy                                     1.8.0\n",
       "decorator                                   5.1.1\n",
       "defusedxml                                  0.7.1\n",
       "exceptiongroup                              1.1.3\n",
       "executing                                   1.2.0\n",
       "fastjsonschema                              NA\n",
       "flatbuffers                                 23.5.26\n",
       "fqdn                                        NA\n",
       "gast                                        NA\n",
       "google                                      NA\n",
       "h5py                                        3.9.0\n",
       "idna                                        3.4\n",
       "importlib_metadata                          NA\n",
       "ipykernel                                   6.25.2\n",
       "isoduration                                 NA\n",
       "jedi                                        0.19.0\n",
       "jinja2                                      3.1.2\n",
       "joblib                                      1.3.2\n",
       "json5                                       NA\n",
       "jsonpointer                                 2.4\n",
       "jsonschema                                  4.19.1\n",
       "jsonschema_specifications                   NA\n",
       "jupyter_events                              0.7.0\n",
       "jupyter_server                              2.7.3\n",
       "jupyterlab_server                           2.25.0\n",
       "kiwisolver                                  1.4.5\n",
       "markupsafe                                  2.1.3\n",
       "matplotlib_inline                           0.1.6\n",
       "mpl_toolkits                                NA\n",
       "multitasking                                0.0.11\n",
       "nbformat                                    5.9.2\n",
       "opt_einsum                                  v3.3.0\n",
       "overrides                                   NA\n",
       "packaging                                   23.1\n",
       "parso                                       0.8.3\n",
       "patsy                                       0.5.3\n",
       "pexpect                                     4.8.0\n",
       "pickleshare                                 0.7.5\n",
       "platformdirs                                3.10.0\n",
       "prometheus_client                           NA\n",
       "prompt_toolkit                              3.0.39\n",
       "psutil                                      5.9.5\n",
       "ptyprocess                                  0.7.0\n",
       "pure_eval                                   0.2.2\n",
       "pydev_ipython                               NA\n",
       "pydevconsole                                NA\n",
       "pydevd                                      2.9.5\n",
       "pydevd_file_utils                           NA\n",
       "pydevd_plugins                              NA\n",
       "pydevd_tracing                              NA\n",
       "pygments                                    2.16.1\n",
       "pyparsing                                   3.1.1\n",
       "pythonjsonlogger                            NA\n",
       "pytz                                        2023.3.post1\n",
       "referencing                                 NA\n",
       "requests                                    2.31.0\n",
       "rfc3339_validator                           0.1.4\n",
       "rfc3986_validator                           0.1.1\n",
       "rpds                                        NA\n",
       "scipy                                       1.11.2\n",
       "send2trash                                  NA\n",
       "setuptools                                  68.1.2\n",
       "sitecustomize                               NA\n",
       "six                                         1.16.0\n",
       "sniffio                                     1.3.0\n",
       "stack_data                                  0.6.2\n",
       "tensorboard                                 2.13.0\n",
       "tensorflow                                  2.13.0\n",
       "termcolor                                   NA\n",
       "threadpoolctl                               3.2.0\n",
       "tornado                                     6.3.3\n",
       "traitlets                                   5.10.0\n",
       "typing_extensions                           NA\n",
       "uri_template                                NA\n",
       "urllib3                                     1.26.16\n",
       "wcwidth                                     0.2.6\n",
       "webcolors                                   1.13\n",
       "websocket                                   1.6.3\n",
       "wrapt                                       1.15.0\n",
       "yaml                                        6.0.1\n",
       "zipp                                        NA\n",
       "zmq                                         25.1.1\n",
       "</pre>\n",
       "</details> <!-- seems like this ends pre, so might as well be explicit -->\n",
       "<pre>\n",
       "-----\n",
       "IPython             8.15.0\n",
       "jupyter_client      8.3.1\n",
       "jupyter_core        5.3.1\n",
       "jupyterlab          4.0.6\n",
       "notebook            7.0.4\n",
       "-----\n",
       "Python 3.9.18 (main, Aug 24 2023, 21:37:44) [Clang 14.0.0 (clang-1400.0.29.202)]\n",
       "macOS-12.4-x86_64-i386-64bit\n",
       "-----\n",
       "Session information updated at 2023-10-07 18:02\n",
       "</pre>\n",
       "</details>"
      ],
      "text/plain": [
       "<IPython.core.display.HTML object>"
      ]
     },
     "execution_count": 15,
     "metadata": {},
     "output_type": "execute_result"
    }
   ],
   "source": [
    "import math\n",
    "import matplotlib.pyplot as plt\n",
    "import keras\n",
    "import pandas as pd\n",
    "import numpy as np\n",
    "from keras.models import Sequential\n",
    "from keras.layers import Dense\n",
    "from keras.layers import LSTM\n",
    "from keras.layers import Dropout\n",
    "from keras.layers import *\n",
    "from sklearn.preprocessing import MinMaxScaler\n",
    "from sklearn.metrics import mean_squared_error\n",
    "from sklearn.metrics import mean_absolute_error\n",
    "from sklearn.model_selection import train_test_split\n",
    "from keras.callbacks import EarlyStopping\n",
    "from pandas.tseries.offsets import DateOffset\n",
    "import plotly.express as px\n",
    "import plotly.graph_objects as go\n",
    "import session_info\n",
    "session_info.show()"
   ]
  },
  {
   "cell_type": "code",
   "execution_count": 16,
   "metadata": {},
   "outputs": [
    {
     "name": "stdout",
     "output_type": "stream",
     "text": [
      "Number of rows and columns: (5701, 7)\n"
     ]
    },
    {
     "data": {
      "text/html": [
       "<div>\n",
       "<style scoped>\n",
       "    .dataframe tbody tr th:only-of-type {\n",
       "        vertical-align: middle;\n",
       "    }\n",
       "\n",
       "    .dataframe tbody tr th {\n",
       "        vertical-align: top;\n",
       "    }\n",
       "\n",
       "    .dataframe thead th {\n",
       "        text-align: right;\n",
       "    }\n",
       "</style>\n",
       "<table border=\"1\" class=\"dataframe\">\n",
       "  <thead>\n",
       "    <tr style=\"text-align: right;\">\n",
       "      <th></th>\n",
       "      <th>Date</th>\n",
       "      <th>Open</th>\n",
       "      <th>High</th>\n",
       "      <th>Low</th>\n",
       "      <th>Close</th>\n",
       "      <th>Adj Close</th>\n",
       "      <th>Volume</th>\n",
       "    </tr>\n",
       "  </thead>\n",
       "  <tbody>\n",
       "    <tr>\n",
       "      <th>5696</th>\n",
       "      <td>2023-05-09</td>\n",
       "      <td>2.249</td>\n",
       "      <td>2.297</td>\n",
       "      <td>2.184</td>\n",
       "      <td>2.267</td>\n",
       "      <td>2.267</td>\n",
       "      <td>134534</td>\n",
       "    </tr>\n",
       "    <tr>\n",
       "      <th>5697</th>\n",
       "      <td>2023-05-10</td>\n",
       "      <td>2.262</td>\n",
       "      <td>2.265</td>\n",
       "      <td>2.160</td>\n",
       "      <td>2.191</td>\n",
       "      <td>2.191</td>\n",
       "      <td>126485</td>\n",
       "    </tr>\n",
       "    <tr>\n",
       "      <th>5698</th>\n",
       "      <td>2023-05-11</td>\n",
       "      <td>2.182</td>\n",
       "      <td>2.255</td>\n",
       "      <td>2.165</td>\n",
       "      <td>2.190</td>\n",
       "      <td>2.190</td>\n",
       "      <td>119033</td>\n",
       "    </tr>\n",
       "    <tr>\n",
       "      <th>5699</th>\n",
       "      <td>2023-05-12</td>\n",
       "      <td>2.191</td>\n",
       "      <td>2.335</td>\n",
       "      <td>2.147</td>\n",
       "      <td>2.266</td>\n",
       "      <td>2.266</td>\n",
       "      <td>159351</td>\n",
       "    </tr>\n",
       "    <tr>\n",
       "      <th>5700</th>\n",
       "      <td>2023-05-15</td>\n",
       "      <td>2.265</td>\n",
       "      <td>2.384</td>\n",
       "      <td>2.250</td>\n",
       "      <td>2.375</td>\n",
       "      <td>2.375</td>\n",
       "      <td>142753</td>\n",
       "    </tr>\n",
       "  </tbody>\n",
       "</table>\n",
       "</div>"
      ],
      "text/plain": [
       "            Date   Open   High    Low  Close  Adj Close  Volume\n",
       "5696  2023-05-09  2.249  2.297  2.184  2.267      2.267  134534\n",
       "5697  2023-05-10  2.262  2.265  2.160  2.191      2.191  126485\n",
       "5698  2023-05-11  2.182  2.255  2.165  2.190      2.190  119033\n",
       "5699  2023-05-12  2.191  2.335  2.147  2.266      2.266  159351\n",
       "5700  2023-05-15  2.265  2.384  2.250  2.375      2.375  142753"
      ]
     },
     "execution_count": 16,
     "metadata": {},
     "output_type": "execute_result"
    }
   ],
   "source": [
    "tickers_name = \"NG=F\"\n",
    "df = pd.read_csv(tickers_name + \"_dataset_for_predicte.csv\")\n",
    "print(\"Number of rows and columns:\", df.shape)\n",
    "df.tail(5)"
   ]
  },
  {
   "cell_type": "code",
   "execution_count": 17,
   "metadata": {},
   "outputs": [],
   "source": [
    "model = keras.models.load_model('LSTM')"
   ]
  },
  {
   "cell_type": "code",
   "execution_count": 18,
   "metadata": {},
   "outputs": [
    {
     "name": "stdout",
     "output_type": "stream",
     "text": [
      "(5601, 4)\n",
      "(100, 4)\n"
     ]
    }
   ],
   "source": [
    "# 1: Open, 2: High, 3: Low, 4: Close\n",
    "Ntest = 100 # Возьмем тест - 100 дней\n",
    "training_set = df.iloc[:-Ntest, 1:5].values\n",
    "test_set = df.iloc[-Ntest:, 1:5].values\n",
    "\n",
    "print(training_set.shape)\n",
    "print(test_set.shape)"
   ]
  },
  {
   "cell_type": "code",
   "execution_count": 20,
   "metadata": {},
   "outputs": [
    {
     "data": {
      "text/plain": [
       "(5541, 4)"
      ]
     },
     "execution_count": 20,
     "metadata": {},
     "output_type": "execute_result"
    }
   ],
   "source": [
    "# Feature Scaling\n",
    "sc = MinMaxScaler(feature_range = (0, 1))\n",
    "training_set_scaled = sc.fit_transform(training_set)\n",
    "\n",
    "X_train = []\n",
    "y_train = []\n",
    "for i in range(60, len(training_set)):\n",
    "    X_train.append(training_set_scaled[i-60:i, 0:4])\n",
    "    y_train.append(training_set_scaled[i, 0:4])\n",
    "X_train, y_train = np.array(X_train), np.array(y_train)\n",
    "X_train = np.reshape(X_train, (X_train.shape[0], X_train.shape[1], 4))\n",
    "\n",
    "y_train.shape"
   ]
  },
  {
   "cell_type": "code",
   "execution_count": 21,
   "metadata": {
    "scrolled": true
   },
   "outputs": [
    {
     "name": "stdout",
     "output_type": "stream",
     "text": [
      "Epoch 1/100\n",
      "174/174 [==============================] - 14s 51ms/step - loss: 0.0060\n",
      "Epoch 2/100\n",
      "174/174 [==============================] - 9s 51ms/step - loss: 0.0028\n",
      "Epoch 3/100\n",
      "174/174 [==============================] - 9s 53ms/step - loss: 0.0021\n",
      "Epoch 4/100\n",
      "174/174 [==============================] - 9s 52ms/step - loss: 0.0017\n",
      "Epoch 5/100\n",
      "174/174 [==============================] - 9s 51ms/step - loss: 0.0015\n",
      "Epoch 6/100\n",
      "174/174 [==============================] - 9s 49ms/step - loss: 0.0014\n",
      "Epoch 7/100\n",
      "174/174 [==============================] - 9s 50ms/step - loss: 0.0013\n",
      "Epoch 8/100\n",
      "174/174 [==============================] - 9s 49ms/step - loss: 0.0013\n",
      "Epoch 9/100\n",
      "174/174 [==============================] - 9s 51ms/step - loss: 0.0011\n",
      "Epoch 10/100\n",
      "174/174 [==============================] - 9s 50ms/step - loss: 0.0010\n",
      "Epoch 11/100\n",
      "174/174 [==============================] - 9s 50ms/step - loss: 0.0010\n",
      "Epoch 12/100\n",
      "174/174 [==============================] - 9s 51ms/step - loss: 9.0893e-04\n",
      "Epoch 13/100\n",
      "174/174 [==============================] - 9s 51ms/step - loss: 8.3331e-04\n",
      "Epoch 14/100\n",
      "174/174 [==============================] - 9s 53ms/step - loss: 8.0719e-04\n",
      "Epoch 15/100\n",
      "174/174 [==============================] - 10s 55ms/step - loss: 7.5475e-04\n",
      "Epoch 16/100\n",
      "174/174 [==============================] - 9s 51ms/step - loss: 7.1671e-04\n",
      "Epoch 17/100\n",
      "174/174 [==============================] - 9s 52ms/step - loss: 6.6040e-04\n",
      "Epoch 18/100\n",
      "174/174 [==============================] - 9s 51ms/step - loss: 6.7343e-04\n",
      "Epoch 19/100\n",
      "174/174 [==============================] - 10s 57ms/step - loss: 6.4044e-04\n",
      "Epoch 20/100\n",
      "174/174 [==============================] - 12s 68ms/step - loss: 6.3300e-04\n",
      "Epoch 21/100\n",
      "174/174 [==============================] - 11s 65ms/step - loss: 6.2177e-04\n",
      "Epoch 22/100\n",
      "174/174 [==============================] - 9s 52ms/step - loss: 5.8388e-04\n",
      "Epoch 23/100\n",
      "174/174 [==============================] - 9s 51ms/step - loss: 5.8713e-04\n",
      "Epoch 24/100\n",
      "174/174 [==============================] - 9s 50ms/step - loss: 5.4645e-04\n",
      "Epoch 25/100\n",
      "174/174 [==============================] - 9s 50ms/step - loss: 5.1011e-04\n",
      "Epoch 26/100\n",
      "174/174 [==============================] - 9s 52ms/step - loss: 5.1436e-04\n",
      "Epoch 27/100\n",
      "174/174 [==============================] - 9s 53ms/step - loss: 5.1981e-04\n",
      "Epoch 28/100\n",
      "174/174 [==============================] - 9s 51ms/step - loss: 5.3274e-04\n",
      "Epoch 29/100\n",
      "174/174 [==============================] - 9s 51ms/step - loss: 5.0939e-04\n",
      "Epoch 30/100\n",
      "174/174 [==============================] - 9s 52ms/step - loss: 4.9045e-04\n",
      "Epoch 31/100\n",
      "174/174 [==============================] - 9s 51ms/step - loss: 5.2619e-04\n",
      "Epoch 32/100\n",
      "174/174 [==============================] - 9s 52ms/step - loss: 4.8246e-04\n",
      "Epoch 33/100\n",
      "174/174 [==============================] - 9s 52ms/step - loss: 4.5976e-04\n",
      "Epoch 34/100\n",
      "174/174 [==============================] - 9s 54ms/step - loss: 4.4478e-04\n",
      "Epoch 35/100\n",
      "174/174 [==============================] - 10s 55ms/step - loss: 5.0963e-04\n",
      "Epoch 36/100\n",
      "174/174 [==============================] - 9s 54ms/step - loss: 5.6098e-04\n",
      "Epoch 37/100\n",
      "174/174 [==============================] - 9s 52ms/step - loss: 4.3470e-04\n",
      "Epoch 38/100\n",
      "174/174 [==============================] - 9s 51ms/step - loss: 4.9736e-04\n",
      "Epoch 39/100\n",
      "174/174 [==============================] - 9s 51ms/step - loss: 4.6647e-04\n",
      "Epoch 40/100\n",
      "174/174 [==============================] - 9s 52ms/step - loss: 4.3238e-04\n",
      "Epoch 41/100\n",
      "174/174 [==============================] - 9s 53ms/step - loss: 5.2411e-04\n",
      "Epoch 42/100\n",
      "174/174 [==============================] - 10s 55ms/step - loss: 4.4830e-04\n",
      "Epoch 43/100\n",
      "174/174 [==============================] - 10s 57ms/step - loss: 4.2455e-04\n",
      "Epoch 44/100\n",
      "174/174 [==============================] - 9s 51ms/step - loss: 4.1640e-04\n",
      "Epoch 45/100\n",
      "174/174 [==============================] - 9s 51ms/step - loss: 3.9650e-04\n",
      "Epoch 46/100\n",
      "174/174 [==============================] - 9s 52ms/step - loss: 4.3845e-04\n",
      "Epoch 47/100\n",
      "174/174 [==============================] - 9s 52ms/step - loss: 4.4967e-04\n",
      "Epoch 48/100\n",
      "174/174 [==============================] - 9s 54ms/step - loss: 4.5462e-04\n",
      "Epoch 49/100\n",
      "174/174 [==============================] - 9s 54ms/step - loss: 4.6373e-04\n",
      "Epoch 50/100\n",
      "174/174 [==============================] - 9s 52ms/step - loss: 4.3992e-04\n",
      "Epoch 51/100\n",
      "174/174 [==============================] - 9s 52ms/step - loss: 4.5471e-04\n",
      "Epoch 52/100\n",
      "174/174 [==============================] - 9s 52ms/step - loss: 4.3742e-04\n",
      "Epoch 53/100\n",
      "174/174 [==============================] - 9s 52ms/step - loss: 4.5667e-04\n",
      "Epoch 54/100\n",
      "174/174 [==============================] - 10s 58ms/step - loss: 4.0642e-04\n",
      "Epoch 55/100\n",
      "174/174 [==============================] - 10s 59ms/step - loss: 4.0553e-04\n",
      "Epoch 56/100\n",
      "174/174 [==============================] - 11s 62ms/step - loss: 4.3480e-04\n",
      "Epoch 57/100\n",
      "174/174 [==============================] - 9s 52ms/step - loss: 4.6221e-04\n",
      "Epoch 58/100\n",
      "174/174 [==============================] - 9s 51ms/step - loss: 4.2378e-04\n",
      "Epoch 59/100\n",
      "174/174 [==============================] - 9s 53ms/step - loss: 4.1226e-04\n",
      "Epoch 60/100\n",
      "174/174 [==============================] - 9s 52ms/step - loss: 4.0034e-04\n",
      "Epoch 61/100\n",
      "174/174 [==============================] - 9s 52ms/step - loss: 3.8821e-04\n",
      "Epoch 62/100\n",
      "174/174 [==============================] - 11s 65ms/step - loss: 4.2495e-04\n",
      "Epoch 63/100\n",
      "174/174 [==============================] - 12s 67ms/step - loss: 4.1848e-04\n",
      "Epoch 64/100\n",
      "174/174 [==============================] - 10s 60ms/step - loss: 4.0324e-04\n",
      "Epoch 65/100\n",
      "174/174 [==============================] - 9s 49ms/step - loss: 4.0673e-04\n",
      "Epoch 66/100\n",
      "174/174 [==============================] - 9s 49ms/step - loss: 4.4600e-04\n",
      "Epoch 67/100\n",
      "174/174 [==============================] - 8s 48ms/step - loss: 4.4379e-04\n",
      "Epoch 68/100\n",
      "174/174 [==============================] - 10s 58ms/step - loss: 3.9953e-04\n",
      "Epoch 69/100\n",
      "174/174 [==============================] - 10s 56ms/step - loss: 4.2046e-04\n",
      "Epoch 70/100\n",
      "174/174 [==============================] - 10s 55ms/step - loss: 3.9691e-04\n",
      "Epoch 71/100\n",
      "174/174 [==============================] - 10s 58ms/step - loss: 3.8879e-04\n",
      "Epoch 72/100\n",
      "174/174 [==============================] - 9s 54ms/step - loss: 4.2060e-04\n",
      "Epoch 73/100\n",
      "174/174 [==============================] - 9s 50ms/step - loss: 4.3626e-04\n",
      "Epoch 74/100\n",
      "174/174 [==============================] - 10s 59ms/step - loss: 4.2510e-04\n",
      "Epoch 75/100\n",
      "174/174 [==============================] - 11s 62ms/step - loss: 4.2109e-04\n",
      "Epoch 76/100\n",
      "174/174 [==============================] - 11s 65ms/step - loss: 4.1123e-04\n",
      "Epoch 77/100\n",
      "174/174 [==============================] - 12s 66ms/step - loss: 4.1436e-04\n",
      "Epoch 78/100\n",
      "174/174 [==============================] - 15s 85ms/step - loss: 3.8607e-04\n",
      "Epoch 79/100\n",
      "174/174 [==============================] - 10s 59ms/step - loss: 4.8841e-04\n",
      "Epoch 80/100\n",
      "174/174 [==============================] - 10s 58ms/step - loss: 4.3125e-04\n",
      "Epoch 81/100\n",
      "174/174 [==============================] - 11s 63ms/step - loss: 4.1070e-04\n",
      "Epoch 82/100\n",
      "174/174 [==============================] - 11s 63ms/step - loss: 3.8620e-04\n",
      "Epoch 83/100\n",
      "174/174 [==============================] - 10s 59ms/step - loss: 4.1524e-04\n",
      "Epoch 84/100\n",
      "174/174 [==============================] - 10s 59ms/step - loss: 3.9859e-04\n",
      "Epoch 85/100\n",
      "174/174 [==============================] - 10s 55ms/step - loss: 4.3800e-04\n",
      "Epoch 86/100\n",
      "174/174 [==============================] - 11s 65ms/step - loss: 4.1841e-04\n",
      "Epoch 87/100\n",
      "174/174 [==============================] - 11s 64ms/step - loss: 3.7498e-04\n",
      "Epoch 88/100\n",
      "174/174 [==============================] - 9s 54ms/step - loss: 3.7720e-04\n",
      "Epoch 89/100\n",
      "174/174 [==============================] - 10s 59ms/step - loss: 4.1192e-04\n",
      "Epoch 90/100\n",
      "174/174 [==============================] - 9s 53ms/step - loss: 3.8703e-04\n",
      "Epoch 91/100\n",
      "174/174 [==============================] - 11s 66ms/step - loss: 3.6928e-04\n",
      "Epoch 92/100\n",
      "174/174 [==============================] - 10s 60ms/step - loss: 3.8856e-04\n",
      "Epoch 93/100\n",
      "174/174 [==============================] - 11s 62ms/step - loss: 3.8999e-04\n",
      "Epoch 94/100\n",
      "174/174 [==============================] - 11s 63ms/step - loss: 4.0258e-04\n",
      "Epoch 95/100\n",
      "174/174 [==============================] - 10s 56ms/step - loss: 3.9010e-04\n",
      "Epoch 96/100\n",
      "174/174 [==============================] - 10s 58ms/step - loss: 4.0855e-04\n",
      "Epoch 97/100\n",
      "174/174 [==============================] - 10s 56ms/step - loss: 3.6762e-04\n",
      "Epoch 98/100\n",
      "174/174 [==============================] - 11s 62ms/step - loss: 3.8633e-04\n",
      "Epoch 99/100\n",
      "174/174 [==============================] - 11s 61ms/step - loss: 4.1827e-04\n",
      "Epoch 100/100\n",
      "174/174 [==============================] - 10s 60ms/step - loss: 3.6184e-04\n"
     ]
    },
    {
     "data": {
      "text/plain": [
       "<keras.src.callbacks.History at 0x14c498760>"
      ]
     },
     "execution_count": 21,
     "metadata": {},
     "output_type": "execute_result"
    }
   ],
   "source": [
    "model = Sequential()\n",
    "#Adding the first LSTM layer and some Dropout regularisation\n",
    "model.add(LSTM(units = 50, return_sequences = True, input_shape = (X_train.shape[1], 4)))\n",
    "model.add(Dropout(0.2))\n",
    "# Adding a second LSTM layer and some Dropout regularisation\n",
    "model.add(LSTM(units = 50, return_sequences = True))\n",
    "model.add(Dropout(0.2))\n",
    "# Adding a third LSTM layer and some Dropout regularisation\n",
    "model.add(LSTM(units = 50, return_sequences = True))\n",
    "model.add(Dropout(0.2))\n",
    "# Adding a fourth LSTM layer and some Dropout regularisation\n",
    "model.add(LSTM(units = 50))\n",
    "model.add(Dropout(0.2))\n",
    "# Adding the output layer\n",
    "model.add(Dense(units = 4))\n",
    "\n",
    "# Compiling the RNN\n",
    "model.compile(optimizer = 'adam', loss = 'mean_squared_error')\n",
    "\n",
    "# Fitting the RNN to the Training set\n",
    "model.fit(X_train, y_train, epochs = NTest, batch_size = 32)"
   ]
  },
  {
   "cell_type": "code",
   "execution_count": 22,
   "metadata": {},
   "outputs": [
    {
     "name": "stdout",
     "output_type": "stream",
     "text": [
      "INFO:tensorflow:Assets written to: NG=F_LSTM_model/assets\n"
     ]
    },
    {
     "name": "stderr",
     "output_type": "stream",
     "text": [
      "INFO:tensorflow:Assets written to: NG=F_LSTM_model/assets\n"
     ]
    }
   ],
   "source": [
    "model.save(tickers_name + '_LSTM_model')"
   ]
  },
  {
   "cell_type": "code",
   "execution_count": 42,
   "metadata": {},
   "outputs": [
    {
     "name": "stdout",
     "output_type": "stream",
     "text": [
      "(40, 60, 4)\n"
     ]
    },
    {
     "data": {
      "text/plain": [
       "array([[[0.32006705, 0.30528391, 0.28496908, 0.27662638],\n",
       "        [0.28777608, 0.28438755, 0.28563976, 0.27705813],\n",
       "        [0.29331585, 0.28748329, 0.26402861, 0.25309442],\n",
       "        ...,\n",
       "        [0.08280486, 0.07232815, 0.07094419, 0.06886873],\n",
       "        [0.07595306, 0.06944346, 0.07429763, 0.07426597],\n",
       "        [0.07916029, 0.0680363 , 0.06669647, 0.06160046]],\n",
       "\n",
       "       [[0.28777608, 0.28438755, 0.28563976, 0.27705813],\n",
       "        [0.29331585, 0.28748329, 0.26402861, 0.25309442],\n",
       "        [0.26620016, 0.25877717, 0.25285042, 0.25885146],\n",
       "        ...,\n",
       "        [0.07595306, 0.06944346, 0.07429763, 0.07426597],\n",
       "        [0.07916029, 0.0680363 , 0.06669647, 0.06160046],\n",
       "        [0.06603979, 0.06050799, 0.05805201, 0.0533247 ]],\n",
       "\n",
       "       [[0.29331585, 0.28748329, 0.26402861, 0.25309442],\n",
       "        [0.26620016, 0.25877717, 0.25285042, 0.25885146],\n",
       "        [0.28004957, 0.26736088, 0.27192785, 0.27345999],\n",
       "        ...,\n",
       "        [0.07916029, 0.0680363 , 0.06669647, 0.06160046],\n",
       "        [0.06603979, 0.06050799, 0.05805201, 0.0533247 ],\n",
       "        [0.05867775, 0.05565328, 0.05179224, 0.06232009]],\n",
       "\n",
       "       ...,\n",
       "\n",
       "       [[0.07187113, 0.07429817, 0.07325434, 0.07808002],\n",
       "        [0.08470005, 0.07317245, 0.0755645 , 0.07117156],\n",
       "        [0.07456812, 0.06979526, 0.06900663, 0.06527058],\n",
       "        ...,\n",
       "        [0.05153437, 0.0484064 , 0.05276102, 0.05440414],\n",
       "        [0.05889643, 0.05136142, 0.05603994, 0.05649107],\n",
       "        [0.05984402, 0.04910998, 0.05425144, 0.05102188]],\n",
       "\n",
       "       [[0.08470005, 0.07317245, 0.0755645 , 0.07117156],\n",
       "        [0.07456812, 0.06979526, 0.06900663, 0.06527058],\n",
       "        [0.06924703, 0.06001548, 0.05872271, 0.05706679],\n",
       "        ...,\n",
       "        [0.05889643, 0.05136142, 0.05603994, 0.05649107],\n",
       "        [0.05984402, 0.04910998, 0.05425144, 0.05102188],\n",
       "        [0.05401268, 0.0484064 , 0.05462404, 0.05094992]],\n",
       "\n",
       "       [[0.07456812, 0.06979526, 0.06900663, 0.06527058],\n",
       "        [0.06924703, 0.06001548, 0.05872271, 0.05706679],\n",
       "        [0.05714702, 0.05122072, 0.04657574, 0.04253022],\n",
       "        ...,\n",
       "        [0.05984402, 0.04910998, 0.05425144, 0.05102188],\n",
       "        [0.05401268, 0.0484064 , 0.05462404, 0.05094992],\n",
       "        [0.05466871, 0.05403504, 0.05328266, 0.05641912]]])"
      ]
     },
     "execution_count": 42,
     "metadata": {},
     "output_type": "execute_result"
    }
   ],
   "source": [
    "dataset_train = df.iloc[:-NTest, 1:5]\n",
    "dataset_test = df.iloc[-NTest:, 1:5]\n",
    "dataset_total = pd.concat((dataset_train, dataset_test), axis = 0)\n",
    "inputs = dataset_total[len(dataset_total) - len(dataset_test):].to_numpy()\n",
    "inputs = inputs.reshape(-1,4)\n",
    "inputs = sc.transform(inputs)\n",
    "X_test = []\n",
    "for i in range(60, len(dataset_test)):\n",
    "    X_test.append(inputs[i-60:i])\n",
    "X_test = np.array(X_test)\n",
    "X_test = np.reshape(X_test, (X_test.shape[0], X_test.shape[1], 4))\n",
    "print(X_test.shape)\n",
    "\n",
    "X_test"
   ]
  },
  {
   "cell_type": "code",
   "execution_count": 43,
   "metadata": {},
   "outputs": [
    {
     "name": "stdout",
     "output_type": "stream",
     "text": [
      "2/2 [==============================] - 0s 14ms/step\n"
     ]
    },
    {
     "data": {
      "text/plain": [
       "(40, 4)"
      ]
     },
     "execution_count": 43,
     "metadata": {},
     "output_type": "execute_result"
    }
   ],
   "source": [
    "predicted_stock_price = model.predict(X_test)\n",
    "predicted_stock_price = sc.inverse_transform(predicted_stock_price)\n",
    "predicted_stock_price.shape"
   ]
  },
  {
   "cell_type": "code",
   "execution_count": 44,
   "metadata": {},
   "outputs": [
    {
     "data": {
      "text/plain": [
       "(40,)"
      ]
     },
     "execution_count": 44,
     "metadata": {},
     "output_type": "execute_result"
    }
   ],
   "source": [
    "predicted_stock_price[0: , 0].shape"
   ]
  },
  {
   "cell_type": "code",
   "execution_count": 49,
   "metadata": {},
   "outputs": [
    {
     "data": {
      "image/png": "[encoded data removed]",
      "text/plain": [
       "<Figure size 640x480 with 1 Axes>"
      ]
     },
     "metadata": {},
     "output_type": "display_data"
    }
   ],
   "source": [
    "test_set_range = df[-40:]\n",
    "\n",
    "dfloc = test_set_range.loc[:, 'Date']\n",
    "plt.plot(dfloc,test_set_range.Open.values, color = 'red', label = 'Real Open Price')\n",
    "plt.plot(dfloc,predicted_stock_price[0: , 0], color = 'blue', label = 'Predicted Open Price')\n",
    "\n",
    "plt.xticks(np.arange(0,len(test_set_range),40), rotation=45)\n",
    "plt.title(tickers_name + ' Price Prediction')\n",
    "plt.xlabel('Time')\n",
    "plt.ylabel(tickers_name + ' Price')\n",
    "plt.legend()\n",
    "plt.show()"
   ]
  },
  {
   "cell_type": "code",
   "execution_count": 50,
   "metadata": {},
   "outputs": [],
   "source": [
    "predicted_prices_df = pd.DataFrame(predicted_stock_price, columns = ['Open','High','Low', 'Close'])\n",
    "predicted_prices_df.to_csv (r'combined_model_price_prediction.csv', index = False, header=True)"
   ]
  },
  {
   "cell_type": "code",
   "execution_count": null,
   "metadata": {},
   "outputs": [],
   "source": []
  }
 ],
 "metadata": {
  "kernelspec": {
   "display_name": "venv",
   "language": "python",
   "name": "venv"
  },
  "language_info": {
   "codemirror_mode": {
    "name": "ipython",
    "version": 3
   },
   "file_extension": ".py",
   "mimetype": "text/x-python",
   "name": "python",
   "nbconvert_exporter": "python",
   "pygments_lexer": "ipython3",
   "version": "3.9.18"
  }
 },
 "nbformat": 4,
 "nbformat_minor": 4
}
