{
 "cells": [
  {
   "cell_type": "code",
   "execution_count": null,
   "id": "ffae0f5f-31de-492e-b9a2-aeb4b1fbecea",
   "metadata": {},
   "outputs": [],
   "source": [
    "# OLD: Baseline notebook for ETH_contest_v2 dataset (see _README.md in 2023-11_ETH_contest_v2)\n",
    "# NEW 2023-12: this notebook is devoted to ETNA framework approach on synthetic data"
   ]
  },
  {
   "cell_type": "markdown",
   "id": "1c969a8a-586b-4ad3-87c2-2b3db01d02e5",
   "metadata": {},
   "source": [
    "# Инструкция"
   ]
  },
  {
   "cell_type": "code",
   "execution_count": null,
   "id": "7ee0de31-8c10-477c-8e59-4b9841eaf68e",
   "metadata": {},
   "outputs": [],
   "source": [
    "1. Python 3.10  // ETNA не поддерживает 3.11 пока\n",
    "2. pip install etna[all] // Просто pip install etna не взлетит.\n",
    "3. Для раздела MLSD Macro нужен файл с данными: \"demo_data/stockdata_merged.csv.gz\".\n",
    "4. Запустить ноутбук, должен выполниться раздел \"MLSD Macro experiments\""
   ]
  },
  {
   "cell_type": "markdown",
   "id": "70116cbc-be0c-49e7-b16c-d2abaf30a3c1",
   "metadata": {},
   "source": [
    "# Check env"
   ]
  },
  {
   "cell_type": "code",
   "execution_count": null,
   "id": "aeb51410-ed03-486b-bb64-f03442f72d32",
   "metadata": {},
   "outputs": [],
   "source": [
    "!python -V\n",
    "!pip list | grep -Ei \"etn|pand|nump|sci|catb\""
   ]
  },
  {
   "cell_type": "markdown",
   "id": "25ce4049-6670-4178-b4ef-d5c634284ca8",
   "metadata": {},
   "source": [
    "# (12-23) MLSD Macro experiments"
   ]
  },
  {
   "cell_type": "markdown",
   "id": "a29e0a0e-ecaf-4185-aaf9-079647719bb5",
   "metadata": {},
   "source": [
    "## Imports"
   ]
  },
  {
   "cell_type": "code",
   "execution_count": null,
   "id": "c25b1cbd-8853-430f-b5ec-094cf94cf4c4",
   "metadata": {},
   "outputs": [],
   "source": [
    "from datetime import datetime\n",
    "import numpy as np\n",
    "import pandas as pd\n",
    "import time\n",
    "\n",
    "from etna.analysis import plot_backtest\n",
    "from etna.datasets.tsdataset import TSDataset\n",
    "from etna.datasets import generate_from_patterns_df\n",
    "from etna.metrics import MAE, MAPE, SMAPE\n",
    "from etna.models import NaiveModel, LinearPerSegmentModel, CatBoostPerSegmentModel, ProphetModel, AutoARIMAModel, SARIMAXModel, SeasonalMovingAverageModel\n",
    "from etna.models.nn import RNNModel\n",
    "from etna.pipeline import Pipeline\n",
    "from etna.transforms import LagTransform, LogTransform, LambdaTransform, MeanTransform, MedianTransform, BoxCoxTransform, FilterFeaturesTransform"
   ]
  },
  {
   "cell_type": "markdown",
   "id": "08b78700-cf17-4c5e-ad05-9a3965808c83",
   "metadata": {},
   "source": [
    "## Defs"
   ]
  },
  {
   "cell_type": "code",
   "execution_count": null,
   "id": "323b678a-8892-45ad-b17a-31757b25d66d",
   "metadata": {},
   "outputs": [],
   "source": [
    "def create_pipeline_and_launch_backtest(model, transforms, tsd_dataset, horizon: int, n_folds: int, metrics=[MAE(),], \n",
    "                                        refit=1, return_components=True):\n",
    "    print(tsd_dataset)\n",
    "    \n",
    "    print(f\"{horizon=} {n_folds=}\")\n",
    "    \n",
    "    pipeline = Pipeline(\n",
    "        model = model,\n",
    "        transforms=transforms,\n",
    "        horizon=horizon\n",
    "    )\n",
    "    \n",
    "    df_metrics, df_forecast, df_fold_info = pipeline.backtest(\n",
    "        ts=tsd_dataset, metrics=metrics, \n",
    "        n_folds=n_folds,\n",
    "        forecast_params=dict(return_components=return_components),\n",
    "        refit=refit\n",
    "    )\n",
    "    \n",
    "    return df_metrics, df_forecast, df_fold_info"
   ]
  },
  {
   "cell_type": "code",
   "execution_count": null,
   "id": "3299fb24-8f09-4bcb-94f0-cc4e4318dba7",
   "metadata": {},
   "outputs": [],
   "source": [
    "def dump_folds_info_and_metrics(df_metrics, df_forecast, df_fold_info, history_len: int, main_metric=\"MAE\"):\n",
    "    # Print info about folds\n",
    "    print(f\"=== df_fold_info ===\\nShape:{df_fold_info.shape}, head:\\n{df_fold_info.head(3)}\")\n",
    "\n",
    "    # Print metrics and forecast\n",
    "    print(f\"\\n=== df_metrics ===\\nShape:{df_metrics.shape}, head:\\n{df_metrics.head(4)}\")\n",
    "    print(f\"{df_metrics[main_metric].mean()=:.3f}\")\n",
    "    \n",
    "    print(f\"\\n=== df_forecast ===\\n{type(df_forecast)=}\")\n",
    "\n",
    "    plot_backtest(df_forecast, tsd_train_test, history_len=history_len)"
   ]
  },
  {
   "cell_type": "markdown",
   "id": "d998be76-e2e7-4aef-a5ee-2b1be5441412",
   "metadata": {},
   "source": [
    "## Prepare data"
   ]
  },
  {
   "cell_type": "code",
   "execution_count": null,
   "id": "0aebe3dc-ec3e-4318-adc8-54af72eede30",
   "metadata": {},
   "outputs": [],
   "source": [
    "FNAME = r\"demo_data/stockdata_merged.csv.gz\""
   ]
  },
  {
   "cell_type": "code",
   "execution_count": null,
   "id": "489d7714-78d4-4ba7-835d-d6a3cf66a8b0",
   "metadata": {},
   "outputs": [],
   "source": [
    "df_src = pd.read_csv(FNAME, index_col=\"ts\", parse_dates=[\"ts\"])\n",
    "\n",
    "# Remove timezone-info from the index (required by Prophet!), convert to UTC\n",
    "df_src.index = df_src.index.tz_convert(None)\n",
    "\n",
    "# Resample the data to fill missing candles, and forward-fill the gaps (including nans if any)\n",
    "df_src = df_src.resample(rule=\"1d\").ffill()\n",
    "\n",
    "# Replace remaining nans to previous good values (rarely occurred)\n",
    "df_src = df_src.ffill()  # TBD: could be critical for some features with large missing data in the end\n",
    "\n",
    "# Select required dates period\n",
    "df_src = df_src[df_src.index >= datetime.strptime(\"2022-05-01\", '%Y-%m-%d')]\n",
    "df_src = df_src[df_src.index <= datetime.strptime(\"2023-10-30\", '%Y-%m-%d')]\n",
    "#df_src = df_src[df_src.index <= datetime.strptime(\"2023-09-30\", '%Y-%m-%d')]\n",
    "\n",
    "df_src"
   ]
  },
  {
   "cell_type": "code",
   "execution_count": null,
   "id": "33f13d0d-abcc-40ad-9b57-ec034de2c829",
   "metadata": {},
   "outputs": [],
   "source": [
    "# Prepare columns \"timestamp\", \"segment\", \"target\" that are required by ETNA\n",
    "df_src[\"timestamp\"] = df_src.index      # For now - just create copy of index. TBD: try to rename the index\n",
    "#df_src[\"segment\"] = \"dummy_segment\"     # Segments are required by ETNA\n",
    "df_src[\"segment\"] = \"OOT predictions\"     # Segments are required by ETNA\n",
    "df_src[\"target\"] = df_src[\"adj_close_ALI=F\"]    # TBD: check if \"target\" exists.\n",
    "\n",
    "#df_exo = df_src[[\"timestamp\", \"segment\", \"adj_close_BTC=F\", \"adj_close_GC=F\"]]\n",
    "#df_exo = df_src[[\"timestamp\", \"segment\", \"adj_close_GC=F\"]]\n",
    "df_exo = df_src[[\"timestamp\", \"segment\", \"adj_close_BTC=F\"]]\n",
    "\n",
    "df_src = df_src[[\"timestamp\", \"segment\", \"target\"]]"
   ]
  },
  {
   "cell_type": "code",
   "execution_count": null,
   "id": "24ef7ea5-badc-4fb4-adb4-bc2844097d4f",
   "metadata": {},
   "outputs": [],
   "source": [
    "tsd_train_test = TSDataset(df=TSDataset.to_dataset(df_src), df_exog=TSDataset.to_dataset(df_exo), freq=\"D\")\n",
    "#tsd_train_test = TSDataset(df=TSDataset.to_dataset(df_src), freq=\"D\")\n",
    "tsd_train_test"
   ]
  },
  {
   "cell_type": "markdown",
   "id": "958f2d0f-1f42-4e2d-992d-f0d3d0a34875",
   "metadata": {},
   "source": [
    "## Single cycle"
   ]
  },
  {
   "cell_type": "code",
   "execution_count": null,
   "id": "3df52ba8-6dad-446c-87f6-8678070f0d1d",
   "metadata": {
    "scrolled": true
   },
   "outputs": [],
   "source": [
    "%%time\n",
    "transforms=[\n",
    "    #FilterFeaturesTransform(include=[])\n",
    "    LogTransform(in_column=\"target\"),\n",
    "    #MeanTransform(in_column=\"target\", window=7, out_column=\"target_mean_7\"),\n",
    "    #MedianTransform(in_column=\"target\", window\n",
    "    ##LagTransform(in_column=\"target\", lags=[1, 2, 3, 4]),\n",
    "    #LagTransform(lags=[1], in_column=\"target\"),\n",
    "    ##LagTransform(in_column=\"adj_close_BTC=F\", lags=[1, 2]),\n",
    "    #FilterFeaturesTransform(exclude=[(\"dummy_segment\", \"adj_close_BTC=F\"), (\"dummy_segment\", \"adj_close_GC=F\")])  # CatBoostError: Input data must have at least one feature\n",
    "]\n",
    "#transforms=[]\n",
    "#model = CatBoostPerSegmentModel(iterations=100, random_state=42)\n",
    "#model = NaiveModel(lag=1)\n",
    "#model = ProphetModel()\n",
    "#model = AutoARIMAModel()\n",
    "model = SARIMAXModel()\n",
    "#model = LinearPerSegmentModel()\n",
    "df_metrics, df_forecast, df_fold_info = create_pipeline_and_launch_backtest(model=model, tsd_dataset=tsd_train_test, \n",
    "                                                                            horizon=14, n_folds=2, transforms=transforms, refit=1, metrics=[MAPE()])"
   ]
  },
  {
   "cell_type": "code",
   "execution_count": null,
   "id": "537e90f8-ec92-4220-bbf9-07c62db91c30",
   "metadata": {},
   "outputs": [],
   "source": [
    "dump_folds_info_and_metrics(df_metrics, df_forecast, df_fold_info, main_metric=\"MAPE\", history_len=60)\n",
    "df_forecast"
   ]
  },
  {
   "cell_type": "code",
   "execution_count": null,
   "id": "622a8cd1-a6e7-4afc-9fce-eee21249e211",
   "metadata": {},
   "outputs": [],
   "source": [
    "#df_metrics"
   ]
  },
  {
   "cell_type": "markdown",
   "id": "c69e7131-2980-4dd9-a1f8-026cef4b042b",
   "metadata": {},
   "source": [
    "## Big cycle"
   ]
  },
  {
   "cell_type": "code",
   "execution_count": null,
   "id": "7e3c2bd5-847b-443b-9582-fe9e59ee1b73",
   "metadata": {},
   "outputs": [],
   "source": [
    "tsd_train_test"
   ]
  },
  {
   "cell_type": "code",
   "execution_count": null,
   "id": "3ae0ba9c-c510-47c1-9739-9ee0943a7dd1",
   "metadata": {
    "scrolled": true
   },
   "outputs": [],
   "source": [
    "%%time\n",
    "res = []\n",
    "#for iters in [100, 200, 50]: #, 10, 20, 50, 100, 200, 500]: #, 1000]:\n",
    "#  for max_lags_target in [1, 2, 3, 4, 5]:\n",
    "#    for max_lags_btc in [1, 2, 3, 4, 5]:\n",
    "for iters in [100]:\n",
    "  for max_lags_target in [4]:\n",
    "    for max_lags_btc in [2]:\n",
    "        for model in [\n",
    "            CatBoostPerSegmentModel(iterations=iters, random_state=42), \n",
    "            NaiveModel(lag=1), \n",
    "            #LinearPerSegmentModel(), - crashes on horizon > 1\n",
    "            SeasonalMovingAverageModel(), \n",
    "            AutoARIMAModel(), \n",
    "            SARIMAXModel(),  \n",
    "            ProphetModel(), \n",
    "            RNNModel(\n",
    "                decoder_length=1,  #forecast_horizon,\n",
    "                encoder_length=2 * 1,  #forecast_horizon,\n",
    "                #input_size=11,\n",
    "                #input_size=2+6,  # Number of features (including target)\n",
    "                input_size=2,  # Number of features (including target)\n",
    "                trainer_params=dict(max_epochs=10),\n",
    "                lr=1E-3,\n",
    "            )\n",
    "            ]:\n",
    "                start_time = time.time()\n",
    "                transforms=[\n",
    "                    #FilterFeaturesTransform(include=[])\n",
    "                    LogTransform(in_column=\"target\"),\n",
    "                    #PercChangePerSegmentTransform(in_column=\"target\"),\n",
    "                    ##LagTransform(in_column=\"target\", lags=range(1, max_lags_target+1)), # [1, 2, 3, 4, 5]),\n",
    "                    #LagTransform(in_column=\"adj_close_GC=F\", lags=[1, 2, 3, 4, 5]),\n",
    "                    #LagTransform(in_column=\"adj_close_BTC=F\", lags=[1, 2, 3, 4, 5]),\n",
    "                    ##LagTransform(in_column=\"adj_close_BTC=F\", lags=range(1, max_lags_btc + 1)),\n",
    "                    #LagTransform(lags=[1], in_column=\"target\"),\n",
    "                    #FilterFeaturesTransform(exclude=[(\"dummy_segment\", \"adj_close_BTC=F\"), (\"dummy_segment\", \"adj_close_GC=F\")])  # CatBoostError: Input data must have at least one feature\n",
    "                ]\n",
    "                if (\"LinearPerSegmentModel\" in str(model)) or (\"CatBoostPerSegmentModel\" in str(model)):\n",
    "                    transforms.extend([\n",
    "                        LagTransform(in_column=\"target\", lags=range(1, max_lags_target+1)), # [1, 2, 3, 4, 5]),\n",
    "                        LagTransform(in_column=\"adj_close_BTC=F\", lags=range(1, max_lags_btc + 1)),\n",
    "                    ])\n",
    "                #model = CatBoostPerSegmentModel(iterations=iters, random_state=42)\n",
    "                df_metrics, df_forecast, df_fold_info = create_pipeline_and_launch_backtest(\n",
    "                    model=model, tsd_dataset=tsd_train_test, \n",
    "                    #horizon=1, n_folds=30, transforms=transforms, refit=1, metrics=[MAPE()], return_components=False)\n",
    "                    horizon=14, n_folds=2, transforms=transforms, refit=1, metrics=[MAPE()], return_components=False)\n",
    "            \n",
    "                metric = df_metrics[\"MAPE\"].mean()\n",
    "                iter_seconds = time.time() - start_time\n",
    "                print(f\"{iters=} {max_lags_target=} {max_lags_btc=} {metric=:.5f} {iter_seconds=:.1f} {model=}\")\n",
    "                res.append(dict(iters=iters, metric=metric, iter_seconds=iter_seconds, max_lags_target=max_lags_target, max_lags_btc=max_lags_btc, model=model))\n",
    "                df_res = pd.DataFrame(res)\n",
    "                df_res.to_csv(\"__T1523.csv\")"
   ]
  },
  {
   "cell_type": "code",
   "execution_count": null,
   "id": "ed7b1f12-f80a-44cd-b982-3dd0dc1394ef",
   "metadata": {},
   "outputs": [],
   "source": [
    "df_res = pd.DataFrame(res)\n",
    "df_res.plot.bar(x=\"iters\", y=\"metric\", figsize=(20, 10))\n",
    "#df_res.sort_values(by=[\"metric\"])\n",
    "df_res"
   ]
  },
  {
   "cell_type": "code",
   "execution_count": null,
   "id": "401e33bd-67b1-406a-9249-06682768ec17",
   "metadata": {},
   "outputs": [],
   "source": [
    "raise KeyboardInterrupt"
   ]
  },
  {
   "cell_type": "markdown",
   "id": "308812ce-7d9e-4506-a5ff-d24391263fca",
   "metadata": {},
   "source": [
    "## (12-23) Experiments with custom transform for percentage changes (draft)"
   ]
  },
  {
   "cell_type": "code",
   "execution_count": null,
   "id": "19bbef8e-3bda-475f-ab5b-5a9c2effda3d",
   "metadata": {},
   "outputs": [],
   "source": [
    "from etna.transforms.base import OneSegmentTransform"
   ]
  },
  {
   "cell_type": "code",
   "execution_count": null,
   "id": "4c03e12e-3a85-4e02-abac-adb708d82c2b",
   "metadata": {},
   "outputs": [],
   "source": [
    "# Class for processing one segment.\n",
    "class _PercChangeOneSegmentTransform(OneSegmentTransform):\n",
    "    \n",
    "    # Constructor with the name of the column to which the transformation will be applied.\n",
    "    def __init__(self, in_column: str):\n",
    "        self.in_column = in_column\n",
    "        self.base_value = None\n",
    "\n",
    "    def fit(self, df: pd.DataFrame) -> \"_PercChangeOneSegmentTransform\":\n",
    "        self.base_value = df[self.in_column].iloc[0]\n",
    "        return self\n",
    "\n",
    "    # Apply changes.\n",
    "    def transform(self, df: pd.DataFrame) -> pd.DataFrame:\n",
    "        assert self.base_value is not None\n",
    "        \n",
    "        result_df = df.copy()\n",
    "        result_df[self.in_column] = result_df[self.in_column].pct_change()\n",
    "        return result_df\n",
    "\n",
    "    # Returns back changed values.\n",
    "    def inverse_transform(self, df: pd.DataFrame) -> pd.DataFrame:\n",
    "        assert self.base_value is not None\n",
    "        \n",
    "        result = df.copy()\n",
    "        result[self.in_column] = result[self.in_column].add(1,fill_value=0).cumprod() * self.base_value\n",
    "\n",
    "        return result"
   ]
  },
  {
   "cell_type": "code",
   "execution_count": null,
   "id": "6908883f-72fc-468f-b8ba-5280fc6da90c",
   "metadata": {},
   "outputs": [],
   "source": [
    "from etna.transforms.base import ReversiblePerSegmentWrapper\n",
    "from typing import List"
   ]
  },
  {
   "cell_type": "code",
   "execution_count": null,
   "id": "ac83e90d-dc21-4076-918e-c321aedc740d",
   "metadata": {},
   "outputs": [],
   "source": [
    "class PercChangePerSegmentTransform(ReversiblePerSegmentWrapper):\n",
    "    \"\"\"Transform that changes sequence of values to percent changes\"\"\"\n",
    "\n",
    "    def __init__(self, in_column: str):\n",
    "        self.in_column = in_column\n",
    "        super().__init__(\n",
    "            transform=_PercChangeOneSegmentTransform(in_column=self.in_column),\n",
    "            required_features=[in_column],\n",
    "        )\n",
    "\n",
    "    # Here we need to specify output columns with regressors, if transform creates them.\n",
    "    def get_regressors_info(self) -> List[str]:\n",
    "        \"\"\"Return the list with regressors created by the transform.\n",
    "\n",
    "        Returns\n",
    "        -------\n",
    "        :\n",
    "            List with regressors created by the transform.\n",
    "        \"\"\"\n",
    "        return []"
   ]
  },
  {
   "cell_type": "code",
   "execution_count": null,
   "id": "906630ab-1572-4742-a678-9f6bcf74a6ee",
   "metadata": {},
   "outputs": [],
   "source": [
    "tr_perc = PercChangePerSegmentTransform(in_column=\"target\")"
   ]
  },
  {
   "cell_type": "code",
   "execution_count": null,
   "id": "4eb38644-0e9a-47d5-b3eb-717789624c7a",
   "metadata": {},
   "outputs": [],
   "source": [
    "#tr_perc.fit_transform(tsd_train_test)"
   ]
  },
  {
   "cell_type": "code",
   "execution_count": null,
   "id": "163a7327-7333-4d27-9d19-13a1a5311d78",
   "metadata": {},
   "outputs": [],
   "source": [
    "#tsd_train_test"
   ]
  },
  {
   "cell_type": "code",
   "execution_count": null,
   "id": "864552be-6fba-4a74-ae1b-8a76eeeef956",
   "metadata": {},
   "outputs": [],
   "source": [
    "#tr_perc.inverse_transform(tsd_train_test)"
   ]
  },
  {
   "cell_type": "code",
   "execution_count": null,
   "id": "060b3d55-4663-4635-aa58-3e651b9f4fd5",
   "metadata": {},
   "outputs": [],
   "source": [
    "raise KeyboardInterrupt"
   ]
  },
  {
   "cell_type": "code",
   "execution_count": null,
   "id": "463fafe8-167d-4aba-845f-b84786108e5b",
   "metadata": {},
   "outputs": [],
   "source": []
  },
  {
   "cell_type": "code",
   "execution_count": null,
   "id": "91ea6664-fa4c-4da7-88f9-ebe942d79f15",
   "metadata": {},
   "outputs": [],
   "source": [
    "# import logging\n",
    "# logger = logging.getLogger('etna')\n",
    "# logger.setLevel(logging.CRITICAL)\n",
    "# import time"
   ]
  },
  {
   "cell_type": "code",
   "execution_count": null,
   "id": "fa1104d6-0a7f-4822-8f71-77bc16c73963",
   "metadata": {},
   "outputs": [],
   "source": [
    "#10 * (ds_pct+1).cumprod()"
   ]
  },
  {
   "cell_type": "code",
   "execution_count": null,
   "id": "8dd438b8-4fea-48b2-aa8b-a0d2bcae210f",
   "metadata": {},
   "outputs": [],
   "source": [
    "#perc_trans = LambdaTransform(in_column = \"target\", transform_func=lambda x: x.pct_change, inverse_transform_func=lambda x: (x+1).cumprod())"
   ]
  },
  {
   "cell_type": "code",
   "execution_count": null,
   "id": "dc8d08e1-b915-4636-8641-b3da746f7453",
   "metadata": {},
   "outputs": [],
   "source": [
    "#lag_trans = LagTransform(in_column = \"target\", lags=[1,2])"
   ]
  },
  {
   "cell_type": "code",
   "execution_count": null,
   "id": "b09ff650-2b52-496b-8666-694b27523240",
   "metadata": {},
   "outputs": [],
   "source": [
    "#lag_trans.fit_transform(tsd_train_test)"
   ]
  },
  {
   "cell_type": "code",
   "execution_count": null,
   "id": "33145ccf-71d0-482e-aa9e-169896204916",
   "metadata": {},
   "outputs": [],
   "source": [
    "#perc_trans.fit_transform(tsd_train_test)"
   ]
  },
  {
   "cell_type": "markdown",
   "id": "87d78026-0cde-46c1-bec6-db58b281c79e",
   "metadata": {},
   "source": [
    "# (12-21) Approach 0b. ETNA Syntetic datasets with exogenous features"
   ]
  },
  {
   "cell_type": "markdown",
   "id": "c44af601-fbcf-4447-b89c-cd6fafc2456d",
   "metadata": {},
   "source": [
    "## Imports"
   ]
  },
  {
   "cell_type": "markdown",
   "id": "6772e770-3b73-47e5-b047-362c5dfe452d",
   "metadata": {},
   "source": [
    "## Generate pandas df1+df2, df_target"
   ]
  },
  {
   "cell_type": "code",
   "execution_count": null,
   "id": "3b3988fc-1c2a-48e9-9d54-899ad9491d0d",
   "metadata": {},
   "outputs": [],
   "source": [
    "NOIZE_SIGMA = 0.1\n",
    "TRAIN_PERIODS = 24\n",
    "TEST_PERIODS = 8\n",
    "TRAIN_TEST_PERIODS = TRAIN_PERIODS + TEST_PERIODS"
   ]
  },
  {
   "cell_type": "code",
   "execution_count": null,
   "id": "ce8a4f89-1732-4ddb-88e9-5ab908f5e285",
   "metadata": {},
   "outputs": [],
   "source": [
    "# Feature 1 - \"saw\" signal with period 4\n",
    "df1= generate_from_patterns_df(periods=TRAIN_TEST_PERIODS, start_time=\"2023-01-01\", add_noise=True, sigma=NOIZE_SIGMA, random_seed=42, patterns=[[2,4,6,4],])\n",
    "df1.target.plot(marker=\"o\")"
   ]
  },
  {
   "cell_type": "code",
   "execution_count": null,
   "id": "83da76a1-5238-4e7c-907f-227d22f97818",
   "metadata": {},
   "outputs": [],
   "source": [
    "# Feature 2 - \"saw\" signal with period 8\n",
    "df2 = generate_from_patterns_df(periods=TRAIN_TEST_PERIODS, start_time=\"2023-01-01\", add_noise=True, sigma=NOIZE_SIGMA, random_seed=43, patterns=[[2,3,4,5,6,5,4,3],])\n",
    "df2.target.plot(marker=\"o\")"
   ]
  },
  {
   "cell_type": "code",
   "execution_count": null,
   "id": "97f0e2ae-480f-43dc-ab49-bacbaed96a7d",
   "metadata": {},
   "outputs": [],
   "source": [
    "# Just plot feature1 + feature2\n",
    "(df1.target + df2.target).plot(marker=\"o\")"
   ]
  },
  {
   "cell_type": "code",
   "execution_count": null,
   "id": "f1e82bc4-b59f-4fc5-8a09-d99cd2f83755",
   "metadata": {},
   "outputs": [],
   "source": [
    "# Create target separately from features to get non-coinciding version (due to different noize patterns).\n",
    "TARGET_PATTERN = [4,7,10,9,8,9,10,7]\n",
    "df_target = generate_from_patterns_df(periods=TRAIN_TEST_PERIODS, start_time=\"2023-01-01\", add_noise=True, sigma=NOIZE_SIGMA, random_seed=44, patterns=[TARGET_PATTERN,])\n",
    "df_target.target.plot(marker=\"o\")"
   ]
  },
  {
   "cell_type": "code",
   "execution_count": null,
   "id": "3f73755d-3fdf-41b1-bd2f-fe4443922094",
   "metadata": {},
   "outputs": [],
   "source": [
    "df_target.info()"
   ]
  },
  {
   "cell_type": "code",
   "execution_count": null,
   "id": "e2993c04-b46b-4f04-b405-764c794579eb",
   "metadata": {},
   "outputs": [],
   "source": [
    "df_target.head(3)"
   ]
  },
  {
   "cell_type": "markdown",
   "id": "8934d50a-5625-4755-9385-87dea2712ff7",
   "metadata": {},
   "source": [
    "## Convert to TSDataset"
   ]
  },
  {
   "cell_type": "code",
   "execution_count": null,
   "id": "5c3d31c9-bd42-404b-b282-f7f96ff4e916",
   "metadata": {},
   "outputs": [],
   "source": [
    "from etna.datasets.tsdataset import TSDataset"
   ]
  },
  {
   "cell_type": "code",
   "execution_count": null,
   "id": "b4940ab0-a3d9-4c5a-9f89-bfbefd99c458",
   "metadata": {},
   "outputs": [],
   "source": [
    "# Combine features and target\n",
    "assert all(df_target.timestamp == df1.timestamp) and all(df_target.timestamp == df2.timestamp)\n",
    "assert all(df_target.segment == df1.segment) and all(df_target.segment == df2.segment)\n",
    "\n",
    "# Dataframe with target only (recommended by ETNA)\n",
    "df_train_test = pd.concat({\n",
    "    \"timestamp\": df_target.timestamp,\n",
    "    \"segment\": df_target.segment,\n",
    "    \"target\": df_target.target\n",
    "}, axis=\"columns\")\n",
    "\n",
    "# Dataframe with exogenous features\n",
    "df_train_test_exog = pd.concat({\n",
    "    \"timestamp\": df_target.timestamp,\n",
    "    \"segment\": df_target.segment,\n",
    "    \"feat1\": df1.target,\n",
    "    \"feat2\": df2.target,\n",
    "}, axis=\"columns\")"
   ]
  },
  {
   "cell_type": "code",
   "execution_count": null,
   "id": "0b646f0b-6185-423c-8da1-83d0cc799ef9",
   "metadata": {},
   "outputs": [],
   "source": [
    "df_train_test.head(3)"
   ]
  },
  {
   "cell_type": "code",
   "execution_count": null,
   "id": "a806e637-3472-4116-9493-b09ffc13c0fa",
   "metadata": {},
   "outputs": [],
   "source": [
    "df_train_test_exog.head(3)"
   ]
  },
  {
   "cell_type": "code",
   "execution_count": null,
   "id": "99347134-4e65-4f33-b3e9-085627382964",
   "metadata": {},
   "outputs": [],
   "source": [
    "# Convert to TSDataset, combining \"only-target dataset\" with exogenous dataset\n",
    "tsd_train_test = TSDataset(df=TSDataset.to_dataset(df_train_test), df_exog=TSDataset.to_dataset(df_train_test_exog), freq=\"D\")"
   ]
  },
  {
   "cell_type": "code",
   "execution_count": null,
   "id": "05f983b9-471e-4417-90c3-a95784326b60",
   "metadata": {},
   "outputs": [],
   "source": [
    "# Check shapes (missing candles could appear)\n",
    "print(f\"{tsd_train_test.to_pandas().shape=}\")\n",
    "tsd_train_test.info()\n",
    "#tsd_train_test.to_pandas().info()\n",
    "tsd_train_test.head(3)"
   ]
  },
  {
   "cell_type": "markdown",
   "id": "5217b02f-fc14-4c20-834f-ddc821ed2cc3",
   "metadata": {},
   "source": [
    "## Split to train and test parts"
   ]
  },
  {
   "cell_type": "code",
   "execution_count": null,
   "id": "4a84ceb9-bf2c-4ff8-8c2a-4fb1fc490bfa",
   "metadata": {},
   "outputs": [],
   "source": [
    "tsd_train, tsd_test = tsd_train_test.train_test_split(\n",
    "    # train_start=\"1980-01-01\",\n",
    "    # train_end=\"1993-12-01\",\n",
    "    # test_start=\"1994-01-01\",\n",
    "    # test_end=\"1994-08-01\",\n",
    "    test_size=TEST_PERIODS  # Alternative method\n",
    ")\n",
    "assert len(tsd_train.to_pandas()) == TRAIN_PERIODS\n",
    "assert len(tsd_test.to_pandas()) == TEST_PERIODS"
   ]
  },
  {
   "cell_type": "code",
   "execution_count": null,
   "id": "edb80a94-22b7-4603-96ee-7c8be52413fe",
   "metadata": {},
   "outputs": [],
   "source": [
    "print(type(tsd_train))\n",
    "tsd_train.head(3)"
   ]
  },
  {
   "cell_type": "markdown",
   "id": "09b904fe-d90d-4392-8721-e00415abb56e",
   "metadata": {},
   "source": [
    "## Calculate \"mean baseline\" (MAE for pure mean-line predictions) (1.487)"
   ]
  },
  {
   "cell_type": "code",
   "execution_count": null,
   "id": "cfd390f3-8881-4683-9bfe-6447c7a00b2f",
   "metadata": {},
   "outputs": [],
   "source": [
    "y_true = tsd_test.to_pandas()[('segment_0', 'target')]\n",
    "y_true.head()"
   ]
  },
  {
   "cell_type": "code",
   "execution_count": null,
   "id": "f589b758-9fe5-4786-bcdc-e610bed86075",
   "metadata": {},
   "outputs": [],
   "source": [
    "# Calculate baseline MAE for pure zero predictions\n",
    "from sklearn.metrics import mean_absolute_error\n",
    "m = np.mean(TARGET_PATTERN)\n",
    "y_pred = [m] * len(y_true)\n",
    "f\"{mean_absolute_error(y_true, y_pred):.3f}\""
   ]
  },
  {
   "cell_type": "markdown",
   "id": "f5adf080-c86d-47af-b872-2c615acdba82",
   "metadata": {},
   "source": [
    "## Calculate \"ideal baseline\" (MAE for signal with original pattern of target) (0.049)"
   ]
  },
  {
   "cell_type": "code",
   "execution_count": null,
   "id": "46f8f29a-948e-4c63-a5a6-fd6e5ccaca89",
   "metadata": {},
   "outputs": [],
   "source": [
    "y_true = tsd_test.to_pandas()[('segment_0', 'target')]\n",
    "y_true.head()"
   ]
  },
  {
   "cell_type": "code",
   "execution_count": null,
   "id": "fd276e85-0107-4bb1-bcd7-1165ce22951a",
   "metadata": {},
   "outputs": [],
   "source": [
    "# Calculate baseline MAE for pure zero predictions\n",
    "from sklearn.metrics import mean_absolute_error\n",
    "\n",
    "print(f\"Pattern used for target: {TARGET_PATTERN}\")\n",
    "df_ideal_target = generate_from_patterns_df(\n",
    "    periods=len(y_true), start_time=\"2023-01-01\", add_noise=False, sigma=0, random_seed=44, patterns=[TARGET_PATTERN,])\n",
    "\n",
    "f\"{mean_absolute_error(y_true, df_ideal_target.target):.3f}\""
   ]
  },
  {
   "cell_type": "markdown",
   "id": "8252e8b1-9841-4a0b-9295-0a3044aec242",
   "metadata": {},
   "source": [
    "## Using ETNA \"pipeline.backtest\""
   ]
  },
  {
   "cell_type": "markdown",
   "id": "c7d80a47-815c-4f02-93ad-fc406e8b81e7",
   "metadata": {},
   "source": [
    "### Naive model (lag=1) (1.988)"
   ]
  },
  {
   "cell_type": "code",
   "execution_count": null,
   "id": "8676c2cc-46cb-4326-93ff-962f8a43ec0b",
   "metadata": {},
   "outputs": [],
   "source": []
  },
  {
   "cell_type": "code",
   "execution_count": null,
   "id": "7dd530e8-cd8c-4f3e-9b65-39bfe2233fee",
   "metadata": {},
   "outputs": [],
   "source": [
    "%%time\n",
    "transforms=[]\n",
    "model = NaiveModel(lag=1)\n",
    "df_metrics, df_forecast, df_fold_info = create_pipeline_and_launch_backtest(model=model, transforms=transforms, tsd_dataset=tsd_train_test)"
   ]
  },
  {
   "cell_type": "code",
   "execution_count": null,
   "id": "8164f49b-022a-46cd-bb3d-852f837bf187",
   "metadata": {},
   "outputs": [],
   "source": [
    "dump_folds_info_and_metrics(df_metrics, df_forecast, df_fold_info)\n",
    "df_forecast"
   ]
  },
  {
   "cell_type": "markdown",
   "id": "904cf4b3-c601-4ad6-b3ef-d6b4aa15b17b",
   "metadata": {},
   "source": [
    "### Naive model (lag=8) (0.113)"
   ]
  },
  {
   "cell_type": "code",
   "execution_count": null,
   "id": "f677f9ce-48eb-4a28-8765-b89f89131d15",
   "metadata": {},
   "outputs": [],
   "source": [
    "%%time\n",
    "transforms=[]\n",
    "model = NaiveModel(lag=8)\n",
    "df_metrics, df_forecast, df_fold_info = create_pipeline_and_launch_backtest(model=model, transforms=transforms, tsd_dataset=tsd_train_test)"
   ]
  },
  {
   "cell_type": "code",
   "execution_count": null,
   "id": "b1d8874f-7167-477e-83bc-a20d14d47146",
   "metadata": {},
   "outputs": [],
   "source": [
    "dump_folds_info_and_metrics(df_metrics, df_forecast, df_fold_info)\n",
    "df_forecast"
   ]
  },
  {
   "cell_type": "markdown",
   "id": "933cca88-6483-4061-8ae5-a202211fb2e7",
   "metadata": {},
   "source": [
    "### Prophet model (1.851)"
   ]
  },
  {
   "cell_type": "code",
   "execution_count": null,
   "id": "320bb786-d042-4238-94b1-648674104bb6",
   "metadata": {},
   "outputs": [],
   "source": [
    "%%time\n",
    "transforms=[]\n",
    "model = ProphetModel()\n",
    "df_metrics, df_forecast, df_fold_info = create_pipeline_and_launch_backtest(model=model, transforms=transforms, tsd_dataset=tsd_train_test)"
   ]
  },
  {
   "cell_type": "code",
   "execution_count": null,
   "id": "7c86e3db-4493-489c-ac63-e75fadff65d5",
   "metadata": {},
   "outputs": [],
   "source": [
    "dump_folds_info_and_metrics(df_metrics, df_forecast, df_fold_info)\n",
    "df_forecast"
   ]
  },
  {
   "cell_type": "code",
   "execution_count": null,
   "id": "9f7168dd-4155-46bf-9f1d-aae21e589a8a",
   "metadata": {},
   "outputs": [],
   "source": []
  },
  {
   "cell_type": "markdown",
   "id": "ee745ce2-d034-43d5-bd8d-ff8c3203ab62",
   "metadata": {},
   "source": [
    "### Catboost model on f1+f2 (0.112, 10seconds)"
   ]
  },
  {
   "cell_type": "code",
   "execution_count": null,
   "id": "3bcc43ca-c1eb-42ba-96fd-1a7ebaab4eb6",
   "metadata": {
    "scrolled": true
   },
   "outputs": [],
   "source": [
    "%%time\n",
    "transforms=[]\n",
    "model = CatBoostPerSegmentModel(random_state=42)\n",
    "df_metrics, df_forecast, df_fold_info = create_pipeline_and_launch_backtest(model=model, transforms=transforms, tsd_dataset=tsd_train_test)"
   ]
  },
  {
   "cell_type": "code",
   "execution_count": null,
   "id": "7e0138c8-0e67-458a-a361-ad0d2f3cad62",
   "metadata": {},
   "outputs": [],
   "source": [
    "dump_folds_info_and_metrics(df_metrics, df_forecast, df_fold_info)\n",
    "df_forecast"
   ]
  },
  {
   "cell_type": "code",
   "execution_count": null,
   "id": "eb470355-257a-46d4-ad8a-f357b6d4cb21",
   "metadata": {},
   "outputs": [],
   "source": []
  },
  {
   "cell_type": "markdown",
   "id": "32556507-1e39-4c90-bb21-ec1851fb716f",
   "metadata": {},
   "source": [
    "### Catboost on lags=[1] features only (1.498)"
   ]
  },
  {
   "cell_type": "code",
   "execution_count": null,
   "id": "a90631dc-049e-4cdb-b592-c31498d3096c",
   "metadata": {},
   "outputs": [],
   "source": [
    "%%time\n",
    "transforms=[\n",
    "    #FilterFeaturesTransform(include=[])\n",
    "    LagTransform(lags=[1], in_column=\"target\"),\n",
    "    FilterFeaturesTransform(exclude=[\"feat1\", \"feat2\"])  # CatBoostError: Input data must have at least one feature\n",
    "]\n",
    "model = CatBoostPerSegmentModel(random_state=42)\n",
    "df_metrics, df_forecast, df_fold_info = create_pipeline_and_launch_backtest(model=model, transforms=transforms, tsd_dataset=tsd_train_test)"
   ]
  },
  {
   "cell_type": "code",
   "execution_count": null,
   "id": "e9d25763-0b19-4196-babc-9dbfcfb85e18",
   "metadata": {},
   "outputs": [],
   "source": [
    "dump_folds_info_and_metrics(df_metrics, df_forecast, df_fold_info)\n",
    "df_forecast"
   ]
  },
  {
   "cell_type": "code",
   "execution_count": null,
   "id": "7640de75-423f-45d4-9b6e-18dd242ea819",
   "metadata": {},
   "outputs": [],
   "source": []
  },
  {
   "cell_type": "markdown",
   "id": "2bf19794-8ffb-43fc-8c6c-d171038a282f",
   "metadata": {},
   "source": [
    "### Catboost on lags=[8] features only (0.056)"
   ]
  },
  {
   "cell_type": "code",
   "execution_count": null,
   "id": "b89df330-4a20-4e19-a762-bcd9293c45b0",
   "metadata": {},
   "outputs": [],
   "source": [
    "from etna.transforms import FilterFeaturesTransform, LagTransform"
   ]
  },
  {
   "cell_type": "code",
   "execution_count": null,
   "id": "85621c7e-43b2-4b7b-929e-0a115a50d768",
   "metadata": {
    "scrolled": true
   },
   "outputs": [],
   "source": [
    "%%time\n",
    "transforms=[\n",
    "    #FilterFeaturesTransform(include=[])\n",
    "    #LagTransform(lags=[1,2,3,4,5,6,7,8], in_column=\"target\"),\n",
    "    LagTransform(lags=[8], in_column=\"target\"),\n",
    "    FilterFeaturesTransform(exclude=[\"feat1\", \"feat2\"])  # CatBoostError: Input data must have at least one feature\n",
    "]\n",
    "model = CatBoostPerSegmentModel(random_state=42)\n",
    "df_metrics, df_forecast, df_fold_info = create_pipeline_and_launch_backtest(model=model, transforms=transforms, tsd_dataset=tsd_train_test)"
   ]
  },
  {
   "cell_type": "code",
   "execution_count": null,
   "id": "7690fff8-a9d6-46b0-80b5-99a7985a96f4",
   "metadata": {},
   "outputs": [],
   "source": [
    "dump_folds_info_and_metrics(df_metrics, df_forecast, df_fold_info)\n",
    "df_forecast"
   ]
  },
  {
   "cell_type": "code",
   "execution_count": null,
   "id": "61428a43-111e-4b6b-816f-95d97b148fac",
   "metadata": {},
   "outputs": [],
   "source": [
    "raise KeyboardInterrupt"
   ]
  },
  {
   "cell_type": "markdown",
   "id": "0e392974-6948-49f7-8a2c-b8f5461c5454",
   "metadata": {},
   "source": [
    "# (12-18) [OBSOLETED by 0b]Approach 0a. ETNA Syntetic datasets"
   ]
  },
  {
   "cell_type": "markdown",
   "id": "5f86c0ee-f5f4-45cf-8004-ceb8ab22d546",
   "metadata": {},
   "source": [
    "## Imports"
   ]
  },
  {
   "cell_type": "code",
   "execution_count": null,
   "id": "dbc1aa1f-82a1-46c1-a644-09589bd39ab6",
   "metadata": {},
   "outputs": [],
   "source": [
    "from etna.analysis import plot_backtest\n",
    "from etna.datasets import generate_from_patterns_df\n",
    "from etna.metrics import MAE, MAPE, SMAPE\n",
    "from etna.models import NaiveModel, CatBoostPerSegmentModel, ProphetModel\n",
    "from etna.pipeline import Pipeline"
   ]
  },
  {
   "cell_type": "markdown",
   "id": "936c790d-0f12-4eae-92e4-3aa8ffb25ca9",
   "metadata": {},
   "source": [
    "## Generate pandas df1+df2, df_target"
   ]
  },
  {
   "cell_type": "code",
   "execution_count": null,
   "id": "32750035-9ed9-4aad-ab4a-5c9cd01ed380",
   "metadata": {},
   "outputs": [],
   "source": [
    "NOIZE_SIGMA = 0.1\n",
    "TRAIN_PERIODS = 24\n",
    "TEST_PERIODS = 8\n",
    "TRAIN_TEST_PERIODS = TRAIN_PERIODS + TEST_PERIODS"
   ]
  },
  {
   "cell_type": "code",
   "execution_count": null,
   "id": "ac4d7432-a463-40dd-831a-d241097175bb",
   "metadata": {},
   "outputs": [],
   "source": [
    "df1= generate_from_patterns_df(periods=TRAIN_TEST_PERIODS, start_time=\"2023-01-01\", add_noise=True, sigma=NOIZE_SIGMA, random_seed=42, patterns=[[2,4,6,4],])\n",
    "df1.target.plot(marker=\"o\")"
   ]
  },
  {
   "cell_type": "code",
   "execution_count": null,
   "id": "e648038d-5527-4d2b-94c2-afe964f50a93",
   "metadata": {},
   "outputs": [],
   "source": [
    "df2 = generate_from_patterns_df(periods=TRAIN_TEST_PERIODS, start_time=\"2023-01-01\", add_noise=True, sigma=NOIZE_SIGMA, random_seed=43, patterns=[[2,3,4,5,6,5,4,3],])\n",
    "df2.target.plot(marker=\"o\")"
   ]
  },
  {
   "cell_type": "code",
   "execution_count": null,
   "id": "11a3c235-9182-4a6b-9085-47dd25df634c",
   "metadata": {},
   "outputs": [],
   "source": [
    "(df1.target + df2.target).plot(marker=\"o\")"
   ]
  },
  {
   "cell_type": "code",
   "execution_count": null,
   "id": "ab4770e0-43be-45fc-befe-38ce06cd88ad",
   "metadata": {},
   "outputs": [],
   "source": [
    "# Create target separately from features to get non-coinciding version (due to different noize patterns).\n",
    "TARGET_PATTERN = [4,7,10,9,8,9,10,7]\n",
    "df_target = generate_from_patterns_df(periods=TRAIN_TEST_PERIODS, start_time=\"2023-01-01\", add_noise=True, sigma=NOIZE_SIGMA, random_seed=44, patterns=[TARGET_PATTERN,])\n",
    "df_target.target.plot(marker=\"o\")"
   ]
  },
  {
   "cell_type": "code",
   "execution_count": null,
   "id": "2e6fa21d-4894-4ddb-b5ba-7a8ef95df18a",
   "metadata": {},
   "outputs": [],
   "source": [
    "df_target.info()"
   ]
  },
  {
   "cell_type": "code",
   "execution_count": null,
   "id": "6cf04192-1216-46d3-9b9e-576bbf6bb7c9",
   "metadata": {},
   "outputs": [],
   "source": [
    "df_target.head(3)"
   ]
  },
  {
   "cell_type": "markdown",
   "id": "95d35685-dc9e-42d1-ba22-575a6eef259a",
   "metadata": {},
   "source": [
    "## Convert to TSDataset"
   ]
  },
  {
   "cell_type": "code",
   "execution_count": null,
   "id": "f33b3461-e405-4d68-b094-3b25a2eaa46e",
   "metadata": {},
   "outputs": [],
   "source": [
    "from etna.datasets.tsdataset import TSDataset"
   ]
  },
  {
   "cell_type": "code",
   "execution_count": null,
   "id": "e324420c-ae9b-4c9c-bfe8-e5a5753a28c9",
   "metadata": {},
   "outputs": [],
   "source": [
    "# Combine features and target\n",
    "assert all(df_target.timestamp == df1.timestamp) and all(df_target.timestamp == df2.timestamp)\n",
    "assert all(df_target.segment == df1.segment) and all(df_target.segment == df2.segment)\n",
    "\n",
    "df_train_test = pd.concat({\n",
    "    \"timestamp\": df_target.timestamp,\n",
    "    \"segment\": df_target.segment,\n",
    "    \"feat1\": df1.target,\n",
    "    \"feat2\": df2.target,\n",
    "    \"target\": df_target.target\n",
    "}, axis=\"columns\")"
   ]
  },
  {
   "cell_type": "code",
   "execution_count": null,
   "id": "369e7d4c-2871-40b3-ad28-6b4f4e2e2d0b",
   "metadata": {},
   "outputs": [],
   "source": [
    "df_train_test"
   ]
  },
  {
   "cell_type": "code",
   "execution_count": null,
   "id": "9f3e4a41-411a-4686-97b1-bd123af216a2",
   "metadata": {},
   "outputs": [],
   "source": [
    "# Prepocess by ETNA (move timestamp to index and create multiindex for segment + all columns)\n",
    "df_train_test_preprocessed = TSDataset.to_dataset(df_train_test)\n",
    "type(df_train_test_preprocessed)"
   ]
  },
  {
   "cell_type": "code",
   "execution_count": null,
   "id": "e8e294fb-8771-46f6-8d30-f681d007e4c7",
   "metadata": {},
   "outputs": [],
   "source": [
    "# Finally - convert to TSDataset \n",
    "tsd_train_test = TSDataset(df_train_test_preprocessed, freq=\"D\")\n",
    "\n",
    "# Check shapes (missing candles could appear)\n",
    "print(f\"{tsd_train_test.to_pandas().shape=}\")\n",
    "tsd_train_test.info()\n",
    "tsd_train_test.to_pandas().info()\n",
    "tsd_train_test.head(3)"
   ]
  },
  {
   "cell_type": "markdown",
   "id": "4b60c061-6db3-4243-901d-7121cc095988",
   "metadata": {},
   "source": [
    "## Split to train and test parts"
   ]
  },
  {
   "cell_type": "code",
   "execution_count": null,
   "id": "fb4db20d-7bbe-4b92-b104-6e80cb380dfa",
   "metadata": {},
   "outputs": [],
   "source": [
    "tsd_train, tsd_test = tsd_train_test.train_test_split(\n",
    "    # train_start=\"1980-01-01\",\n",
    "    # train_end=\"1993-12-01\",\n",
    "    # test_start=\"1994-01-01\",\n",
    "    # test_end=\"1994-08-01\",\n",
    "    test_size=TEST_PERIODS  # Alternative method\n",
    ")\n",
    "assert len(tsd_train.to_pandas()) == TRAIN_PERIODS\n",
    "assert len(tsd_test.to_pandas()) == TEST_PERIODS"
   ]
  },
  {
   "cell_type": "code",
   "execution_count": null,
   "id": "ebf278b2-6d09-4486-a326-9b7972d72612",
   "metadata": {},
   "outputs": [],
   "source": [
    "print(type(tsd_train))\n",
    "tsd_train.head(3)"
   ]
  },
  {
   "cell_type": "markdown",
   "id": "8c356880-1041-4034-9808-a707e3e0b682",
   "metadata": {},
   "source": [
    "## Calculate \"mean baseline\" (MAE for pure mean-line predictions) (1.487)"
   ]
  },
  {
   "cell_type": "code",
   "execution_count": null,
   "id": "e954e32b-b1a8-422b-9d27-a1c6d4fbc4b8",
   "metadata": {},
   "outputs": [],
   "source": [
    "y_true = tsd_test.to_pandas()[('segment_0', 'target')]\n",
    "y_true.head()"
   ]
  },
  {
   "cell_type": "code",
   "execution_count": null,
   "id": "3c29d90c-0bb2-40af-98c3-9dafb94eab65",
   "metadata": {},
   "outputs": [],
   "source": [
    "# Calculate baseline MAE for pure zero predictions\n",
    "from sklearn.metrics import mean_absolute_error\n",
    "m = np.mean(TARGET_PATTERN)\n",
    "f\"{mean_absolute_error(y_true, [m] * len(y_true)):.3f}\""
   ]
  },
  {
   "cell_type": "markdown",
   "id": "80c28691-b531-4954-9238-3403c604e0a7",
   "metadata": {},
   "source": [
    "## Using ETNA \"pipeline.backtest\""
   ]
  },
  {
   "cell_type": "markdown",
   "id": "91e84a08-bba4-4896-b723-1f78fb42fbdd",
   "metadata": {},
   "source": [
    "### Naive model (lag=1) (1.988)"
   ]
  },
  {
   "cell_type": "code",
   "execution_count": null,
   "id": "d3d6a8ed-9f35-44bb-89e5-a023d2a0c4d5",
   "metadata": {
    "scrolled": true
   },
   "outputs": [],
   "source": [
    "%%time\n",
    "HORIZON = 1\n",
    "N_FOLDS = TEST_PERIODS\n",
    "print(f\"{HORIZON=} {N_FOLDS=}\")\n",
    "\n",
    "transforms=[]\n",
    "model = NaiveModel(lag=1)\n",
    "\n",
    "pipeline = Pipeline(\n",
    "    model = model,\n",
    "    transforms=transforms,\n",
    "    horizon=HORIZON\n",
    ")\n",
    "\n",
    "df_metrics, df_forecast, df_fold_info = pipeline.backtest(ts=tsd_train_test, metrics=[MAE(),], n_folds=N_FOLDS)  # MSE(), SMAPE()], n_folds=10)"
   ]
  },
  {
   "cell_type": "code",
   "execution_count": null,
   "id": "e0773e51-c51e-4ba8-a804-0d12ed2b9481",
   "metadata": {},
   "outputs": [],
   "source": [
    "print(df_fold_info.shape)\n",
    "print(df_fold_info.head(2))\n",
    "\n",
    "print(df_metrics.shape)\n",
    "print(df_metrics.head(2))\n",
    "\n",
    "print(f\"{df_metrics.MAE.mean()=:.3f}\")\n",
    "\n",
    "df_forecast"
   ]
  },
  {
   "cell_type": "code",
   "execution_count": null,
   "id": "2a7e33df-6aac-4e81-956e-26ee03365711",
   "metadata": {},
   "outputs": [],
   "source": [
    "plot_backtest(df_forecast, tsd_train_test, history_len=TRAIN_PERIODS)"
   ]
  },
  {
   "cell_type": "markdown",
   "id": "2a47d2bb-51e5-402c-9e58-44b252e698a1",
   "metadata": {},
   "source": [
    "### Naive model (lag=8) (0.113)"
   ]
  },
  {
   "cell_type": "code",
   "execution_count": null,
   "id": "8bc6258d-5d6e-4787-b190-19ff2bb04487",
   "metadata": {
    "scrolled": true
   },
   "outputs": [],
   "source": [
    "%%time\n",
    "HORIZON = 1\n",
    "N_FOLDS = TEST_PERIODS\n",
    "print(f\"{HORIZON=} {N_FOLDS=}\")\n",
    "\n",
    "transforms=[]\n",
    "model = NaiveModel(lag=8)\n",
    "\n",
    "pipeline = Pipeline(\n",
    "    model = model,\n",
    "    transforms=transforms,\n",
    "    horizon=HORIZON\n",
    ")\n",
    "\n",
    "df_metrics, df_forecast, df_fold_info = pipeline.backtest(ts=tsd_train_test, metrics=[MAE(),], n_folds=N_FOLDS)  # MSE(), SMAPE()], n_folds=10)"
   ]
  },
  {
   "cell_type": "code",
   "execution_count": null,
   "id": "14a2e84e-3d14-4a80-81ae-481de2b45333",
   "metadata": {},
   "outputs": [],
   "source": [
    "print(df_fold_info.shape)\n",
    "print(df_fold_info.head(2))\n",
    "\n",
    "print(df_metrics.shape)\n",
    "print(df_metrics.head(2))\n",
    "\n",
    "print(f\"{df_metrics.MAE.mean()=:.3f}\")\n",
    "\n",
    "df_forecast"
   ]
  },
  {
   "cell_type": "code",
   "execution_count": null,
   "id": "34da9f97-beeb-46f5-96a9-18d468561445",
   "metadata": {},
   "outputs": [],
   "source": [
    "plot_backtest(df_forecast, tsd_train_test, history_len=TRAIN_PERIODS)"
   ]
  },
  {
   "cell_type": "code",
   "execution_count": null,
   "id": "48a299b0-e426-4c24-8cc2-bb9b46dd96c1",
   "metadata": {},
   "outputs": [],
   "source": [
    "df_target.target.plot(marker=\"o\")"
   ]
  },
  {
   "cell_type": "markdown",
   "id": "94c53572-e713-468c-8c43-af2d86bddd37",
   "metadata": {},
   "source": [
    "### Prophet model (1.851)"
   ]
  },
  {
   "cell_type": "code",
   "execution_count": null,
   "id": "8d041b6d-4f50-4ba8-ade9-54b4eeecc1db",
   "metadata": {
    "scrolled": true
   },
   "outputs": [],
   "source": [
    "%%time\n",
    "HORIZON = 1\n",
    "N_FOLDS = TEST_PERIODS\n",
    "print(f\"{HORIZON=} {N_FOLDS=}\")\n",
    "\n",
    "transforms=[]\n",
    "model = ProphetModel()\n",
    "\n",
    "pipeline = Pipeline(\n",
    "    model = model,\n",
    "    transforms=transforms,\n",
    "    horizon=HORIZON\n",
    ")\n",
    "\n",
    "df_metrics, df_forecast, df_fold_info = pipeline.backtest(ts=tsd_train_test, metrics=[MAE(),], n_folds=N_FOLDS)  # MSE(), SMAPE()], n_folds=10)"
   ]
  },
  {
   "cell_type": "code",
   "execution_count": null,
   "id": "96c649d0-37f5-4024-a029-25845ee7126f",
   "metadata": {},
   "outputs": [],
   "source": [
    "print(df_fold_info.shape)\n",
    "print(df_fold_info.head(2))\n",
    "\n",
    "print(df_metrics.shape)\n",
    "print(df_metrics.head(5))\n",
    "\n",
    "print(f\"{df_metrics.MAE.mean()=:.3f}\")\n",
    "\n",
    "df_forecast"
   ]
  },
  {
   "cell_type": "code",
   "execution_count": null,
   "id": "fde1cbdb-ee14-47f2-ac82-f69a437b3563",
   "metadata": {},
   "outputs": [],
   "source": [
    "plot_backtest(df_forecast, tsd_train_test, history_len=TRAIN_PERIODS)"
   ]
  },
  {
   "cell_type": "code",
   "execution_count": null,
   "id": "54bdec4b-5e01-4091-a4e6-00fdd7cd8464",
   "metadata": {},
   "outputs": [],
   "source": [
    "df_target.target.plot(marker=\"o\")"
   ]
  },
  {
   "cell_type": "code",
   "execution_count": null,
   "id": "5392b215-df6d-4e10-a088-997a9061f55c",
   "metadata": {},
   "outputs": [],
   "source": []
  },
  {
   "cell_type": "markdown",
   "id": "fe0a6478-865d-4614-92a2-0024e5bb39d5",
   "metadata": {},
   "source": [
    "### Catboost model (4.015)"
   ]
  },
  {
   "cell_type": "code",
   "execution_count": null,
   "id": "c8d1d600-dd4b-4532-9ba6-781af3728f55",
   "metadata": {
    "scrolled": true
   },
   "outputs": [],
   "source": [
    "%%time\n",
    "HORIZON = 1\n",
    "N_FOLDS = TEST_PERIODS\n",
    "print(f\"{HORIZON=} {N_FOLDS=}\")\n",
    "\n",
    "transforms=[]\n",
    "model = CatBoostPerSegmentModel(random_state=42)\n",
    "\n",
    "pipeline = Pipeline(\n",
    "    model = model,\n",
    "    transforms=transforms,\n",
    "    horizon=HORIZON\n",
    ")\n",
    "\n",
    "df_metrics, df_forecast, df_fold_info = pipeline.backtest(\n",
    "    ts=tsd_train_test, metrics=[MAE(),], \n",
    "    n_folds=N_FOLDS,\n",
    "    forecast_params=dict(return_components=True)\n",
    ") "
   ]
  },
  {
   "cell_type": "code",
   "execution_count": null,
   "id": "22eb996c-8bc9-43f2-9b7b-fa7841f85bd5",
   "metadata": {},
   "outputs": [],
   "source": [
    "print(df_fold_info.shape)\n",
    "print(df_fold_info.head(2))\n",
    "\n",
    "print(df_metrics.shape)\n",
    "print(df_metrics.head(5))\n",
    "\n",
    "print(f\"{df_metrics.MAE.mean()=:.3f}\")\n",
    "\n",
    "df_forecast"
   ]
  },
  {
   "cell_type": "code",
   "execution_count": null,
   "id": "bea22597-e598-47a7-949a-03d76f424789",
   "metadata": {},
   "outputs": [],
   "source": [
    "plot_backtest(df_forecast, tsd_train_test, history_len=TRAIN_PERIODS)"
   ]
  },
  {
   "cell_type": "code",
   "execution_count": null,
   "id": "635d4f05-c274-467b-90e2-65bd4f23a75d",
   "metadata": {},
   "outputs": [],
   "source": [
    "df_target.target.plot(marker=\"o\")"
   ]
  },
  {
   "cell_type": "markdown",
   "id": "4fad961c-1877-402c-a0f0-9b2b3c41e997",
   "metadata": {},
   "source": [
    "## Using ETNA \"model.fit\""
   ]
  },
  {
   "cell_type": "markdown",
   "id": "fe140518-c451-44a6-a72b-3b29f5630aba",
   "metadata": {},
   "source": [
    "### \"model.fit\": Naive model (lag=1), (1.877)"
   ]
  },
  {
   "cell_type": "code",
   "execution_count": null,
   "id": "433f98dd-9c6f-4553-90d0-1364d70530ae",
   "metadata": {},
   "outputs": [],
   "source": [
    "%%time\n",
    "HORIZON = len(tsd_test.to_pandas())\n",
    "print(f\"{HORIZON=}\")\n",
    "\n",
    "# Fit the model\n",
    "model = NaiveModel(lag=1)\n",
    "model.fit(tsd_train)\n",
    "model"
   ]
  },
  {
   "cell_type": "code",
   "execution_count": null,
   "id": "452947db-6431-4af0-8cfc-912fd3c71f99",
   "metadata": {},
   "outputs": [],
   "source": [
    "# Make dataset for forcasting (1 candle of train set + HORIZON empty candles)\n",
    "print(f\"{model.context_size=}\")\n",
    "tsd_future = tsd_train.make_future(future_steps=HORIZON, tail_steps=model.context_size)\n",
    "print(type(tsd_future))\n",
    "tsd_future"
   ]
  },
  {
   "cell_type": "code",
   "execution_count": null,
   "id": "131d62a7-8a9a-4500-8cc3-33b90b31c25f",
   "metadata": {},
   "outputs": [],
   "source": [
    "%%time\n",
    "tsd_forecast = model.forecast(tsd_future, prediction_size=HORIZON)\n",
    "# Here we get dataset of all HORIZON candles (i.e. the first one is dropped)\n",
    "print(type(tsd_forecast))\n",
    "tsd_forecast"
   ]
  },
  {
   "cell_type": "code",
   "execution_count": null,
   "id": "dcd1ac9f-f577-42fd-9e47-f66d9fb2f8cd",
   "metadata": {},
   "outputs": [],
   "source": [
    "mae = MAE()\n",
    "mae(y_true=tsd_test, y_pred=tsd_forecast)"
   ]
  },
  {
   "cell_type": "markdown",
   "id": "45945f6c-4683-4497-8c6b-13852b45afa7",
   "metadata": {},
   "source": [
    "#### Another attempt - use manual tsd_future -> ERROR (Given context isn't big enough)\n"
   ]
  },
  {
   "cell_type": "code",
   "execution_count": null,
   "id": "80eb3c67-1d6e-49c5-954f-4eb543c60e08",
   "metadata": {},
   "outputs": [],
   "source": [
    "# Generate manual tsd_future2 TDataset - all test set + required context part of train\n",
    "_, tsd_future2 = tsd_train_test.train_test_split(test_size=TEST_PERIODS + 1)"
   ]
  },
  {
   "cell_type": "code",
   "execution_count": null,
   "id": "f03b68b2-729f-473b-b94d-0c62a2d60d2a",
   "metadata": {},
   "outputs": [],
   "source": [
    "print(type(tsd_future2))\n",
    "tsd_future2"
   ]
  },
  {
   "cell_type": "code",
   "execution_count": null,
   "id": "1924d4e3-920a-448b-998c-f91cbe526555",
   "metadata": {},
   "outputs": [],
   "source": [
    "# Use this new tsd_future2 for making predictions (done inplace!)\n",
    "# model.forecast(tsd_test, prediction_size=HORIZON)  # Gives error\n",
    "dummy = model.forecast(tsd_future2, prediction_size=HORIZON, return_components=True)\n",
    "assert dummy is tsd_future2  # Just same object\n",
    "tsd_future2"
   ]
  },
  {
   "cell_type": "code",
   "execution_count": null,
   "id": "764b12ef-e5ec-4d3e-9aa1-09e2c21532e9",
   "metadata": {},
   "outputs": [],
   "source": []
  },
  {
   "cell_type": "markdown",
   "id": "560a037d-c6a8-4a59-aed9-7f6f285f57b6",
   "metadata": {},
   "source": [
    "### \"model.fit\": Naive model (lag=7), ()"
   ]
  },
  {
   "cell_type": "code",
   "execution_count": null,
   "id": "894e7121-febc-4f27-8a12-571b03bb1099",
   "metadata": {},
   "outputs": [],
   "source": [
    "%%time\n",
    "HORIZON = len(tsd_test.to_pandas())\n",
    "print(f\"{HORIZON=}\")\n",
    "\n",
    "# Fit the model\n",
    "model = NaiveModel(lag=7)\n",
    "model.fit(tsd_train)\n",
    "model"
   ]
  },
  {
   "cell_type": "code",
   "execution_count": null,
   "id": "f9f988db-2f99-44dd-8d97-6994b5be21a2",
   "metadata": {},
   "outputs": [],
   "source": [
    "# Make dataset for forcasting (1 candle of train set + HORIZON empty candles)\n",
    "print(f\"{model.context_size=}\")\n",
    "tsd_future = tsd_train.make_future(future_steps=HORIZON, tail_steps=model.context_size)\n",
    "print(type(tsd_future))\n",
    "tsd_future"
   ]
  },
  {
   "cell_type": "code",
   "execution_count": null,
   "id": "db8a3285-3496-4155-aa99-352bb61e7bb0",
   "metadata": {},
   "outputs": [],
   "source": [
    "%%time\n",
    "tsd_forecast = model.forecast(tsd_future, prediction_size=HORIZON)\n",
    "# Here we get dataset of all HORIZON candles (i.e. the first one is dropped)\n",
    "print(type(tsd_forecast))\n",
    "tsd_forecast"
   ]
  },
  {
   "cell_type": "code",
   "execution_count": null,
   "id": "321114d6-58e2-423b-ba4f-aedbf352c7ef",
   "metadata": {},
   "outputs": [],
   "source": [
    "mae = MAE()\n",
    "mae(y_true=tsd_test, y_pred=tsd_forecast)"
   ]
  },
  {
   "cell_type": "markdown",
   "id": "cd8f89cc-7e5b-491a-a66c-9b6039fd7078",
   "metadata": {},
   "source": [
    "#### Another attempt - use manual tsd_future -> OK"
   ]
  },
  {
   "cell_type": "code",
   "execution_count": null,
   "id": "34d12fd7-582c-4ded-8d14-da393792e4f2",
   "metadata": {},
   "outputs": [],
   "source": [
    "# Generate manual tsd_future2 TDataset - all test set + required context part of train\n",
    "_, tsd_future2 = tsd_train_test.train_test_split(test_size=TEST_PERIODS + 7)"
   ]
  },
  {
   "cell_type": "code",
   "execution_count": null,
   "id": "b2ef641c-23c6-4752-8b81-7b01703196f4",
   "metadata": {},
   "outputs": [],
   "source": [
    "print(type(tsd_future2))\n",
    "tsd_future2"
   ]
  },
  {
   "cell_type": "code",
   "execution_count": null,
   "id": "e82c49b5-c4a0-4a8f-8156-f985582e06d6",
   "metadata": {},
   "outputs": [],
   "source": [
    "# Use this new tsd_future2 for making predictions (done inplace!)\n",
    "# model.forecast(tsd_test, prediction_size=HORIZON)  # Gives error\n",
    "dummy = model.forecast(tsd_future2, prediction_size=HORIZON, return_components=True)\n",
    "assert dummy is tsd_future2  # Just same object\n",
    "tsd_future2"
   ]
  },
  {
   "cell_type": "markdown",
   "id": "42049200-0665-4dc4-a38d-479e372b5517",
   "metadata": {},
   "source": [
    "### \"model.fit\": Naive model (lag=8), (0.113)"
   ]
  },
  {
   "cell_type": "code",
   "execution_count": null,
   "id": "0eca89d4-a873-42cc-a9d5-7ceffb9eac66",
   "metadata": {},
   "outputs": [],
   "source": [
    "%%time\n",
    "HORIZON = len(tsd_test.to_pandas())\n",
    "print(f\"{HORIZON=}\")\n",
    "\n",
    "# Fit the model\n",
    "model = NaiveModel(lag=8)\n",
    "model.fit(tsd_train)\n",
    "model"
   ]
  },
  {
   "cell_type": "code",
   "execution_count": null,
   "id": "7c3bb4d3-4420-4626-b38e-460f60a8e44c",
   "metadata": {},
   "outputs": [],
   "source": [
    "# Make dataset for forcasting (1 candle of train set + HORIZON empty candles)\n",
    "print(f\"{model.context_size=}\")\n",
    "tsd_future = tsd_train.make_future(future_steps=HORIZON, tail_steps=model.context_size)\n",
    "print(type(tsd_future))\n",
    "tsd_future"
   ]
  },
  {
   "cell_type": "code",
   "execution_count": null,
   "id": "41112753-9b19-4569-9b94-ac3020c4f0f3",
   "metadata": {},
   "outputs": [],
   "source": [
    "%%time\n",
    "# Make autoregressive forecast (done inplace!)\n",
    "dummy = model.forecast(tsd_future, prediction_size=HORIZON, return_components=True)\n",
    "assert dummy is tsd_future  # Just same object\n",
    "print(type(tsd_future))\n",
    "tsd_future"
   ]
  },
  {
   "cell_type": "code",
   "execution_count": null,
   "id": "131e9bd7-787e-40fe-b520-0a5ab7fb1ba7",
   "metadata": {},
   "outputs": [],
   "source": [
    "mae = MAE()\n",
    "mae(y_true=tsd_test, y_pred=tsd_forecast)"
   ]
  },
  {
   "cell_type": "markdown",
   "id": "50b700ff-2219-4612-86de-53197616889b",
   "metadata": {},
   "source": [
    "### \"model.fit\": CatBoost model (no lags), ()"
   ]
  },
  {
   "cell_type": "code",
   "execution_count": null,
   "id": "46153945-268b-4fb9-a416-2e1969c008c7",
   "metadata": {},
   "outputs": [],
   "source": [
    "%%time\n",
    "HORIZON = len(tsd_test.to_pandas())\n",
    "print(f\"{HORIZON=}\")\n",
    "\n",
    "# Fit the model\n",
    "model = CatBoostPerSegmentModel(random_state=42)\n",
    "model.fit(tsd_train)\n",
    "model"
   ]
  },
  {
   "cell_type": "markdown",
   "id": "a8b0f352-aa89-44c0-987b-b5268faad433",
   "metadata": {},
   "source": [
    "#### Approach 1 via make_future -> NaNs"
   ]
  },
  {
   "cell_type": "code",
   "execution_count": null,
   "id": "36f4e208-0c01-41f2-bdf4-0594f7864118",
   "metadata": {},
   "outputs": [],
   "source": [
    "# Make dataset for forcasting (0 candles of train set + HORIZON empty candles)\n",
    "print(f\"{model.context_size=}\")\n",
    "tsd_future = tsd_train.make_future(future_steps=HORIZON, tail_steps=model.context_size)\n",
    "print(type(tsd_future))\n",
    "tsd_future"
   ]
  },
  {
   "cell_type": "code",
   "execution_count": null,
   "id": "dd272ec2-5b40-4d1f-a460-0883850301cd",
   "metadata": {},
   "outputs": [],
   "source": [
    "%%time\n",
    "# Make autoregressive forecast (done inplace!)\n",
    "#dummy = model.forecast(tsd_future, prediction_size=HORIZON, return_components=True)\n",
    "dummy = model.forecast(tsd_future, return_components=True)\n",
    "assert dummy is tsd_future  # Just same object\n",
    "print(type(tsd_future))\n",
    "tsd_future"
   ]
  },
  {
   "cell_type": "code",
   "execution_count": null,
   "id": "d32d3bc7-0fdb-414a-9afc-462ab5b86e28",
   "metadata": {},
   "outputs": [],
   "source": [
    "mae = MAE()\n",
    "mae(y_true=tsd_test, y_pred=tsd_future)"
   ]
  },
  {
   "cell_type": "code",
   "execution_count": null,
   "id": "4254ce31-1807-447b-af09-d7b00286962e",
   "metadata": {},
   "outputs": [],
   "source": []
  },
  {
   "cell_type": "markdown",
   "id": "88fdf0bc-ccf7-4887-9d5e-c740d0876860",
   "metadata": {},
   "source": [
    "#### Approach 2 via manual tsd_future (0.095)"
   ]
  },
  {
   "cell_type": "code",
   "execution_count": null,
   "id": "84992bc3-64e1-4652-bd53-9e073dca14a0",
   "metadata": {},
   "outputs": [],
   "source": [
    "# Generate manual tsd_future2 TDataset - all test set + required context part of train\n",
    "_, tsd_future = tsd_train_test.train_test_split(test_size=TEST_PERIODS + 0)"
   ]
  },
  {
   "cell_type": "code",
   "execution_count": null,
   "id": "9407ef7a-e21a-4be3-9d20-edd10bf03abe",
   "metadata": {},
   "outputs": [],
   "source": [
    "print(type(tsd_future))\n",
    "tsd_future"
   ]
  },
  {
   "cell_type": "code",
   "execution_count": null,
   "id": "d2157f25-c6c9-4d43-86f5-b6b56ada163b",
   "metadata": {},
   "outputs": [],
   "source": [
    "# Use this new tsd_future for making predictions (done inplace!)\n",
    "#dummy = model.forecast(tsd_future, prediction_size=HORIZON, return_components=True)\n",
    "dummy = model.forecast(tsd_future, return_components=True)\n",
    "assert dummy is tsd_future  # Just same object\n",
    "tsd_future"
   ]
  },
  {
   "cell_type": "code",
   "execution_count": null,
   "id": "1687eb56-836c-4c8a-88ed-eff9c220396a",
   "metadata": {},
   "outputs": [],
   "source": [
    "tsd_future.df.columns"
   ]
  },
  {
   "cell_type": "code",
   "execution_count": null,
   "id": "e56c1196-e675-4ead-b449-7f84c632602e",
   "metadata": {},
   "outputs": [],
   "source": [
    "tsd_future.df[('segment_0', 'target')].plot()"
   ]
  },
  {
   "cell_type": "code",
   "execution_count": null,
   "id": "c1ff339c-c254-4e48-a680-a4650c994287",
   "metadata": {},
   "outputs": [],
   "source": [
    "mae = MAE()\n",
    "mae(y_true=tsd_test, y_pred=tsd_future)"
   ]
  },
  {
   "cell_type": "markdown",
   "id": "8884edf7-a6ff-4903-90ca-307564c21f6c",
   "metadata": {},
   "source": [
    "## Using ETNA \"pipeline.backtest\" with exogenous features"
   ]
  },
  {
   "cell_type": "code",
   "execution_count": null,
   "id": "d9fc6339-a434-4b69-98d8-4b4c18905ebd",
   "metadata": {},
   "outputs": [],
   "source": [
    "ts = TSDataset(df=TSDataset.to_dataset(df), df_exog=TSDataset.to_dataset(df_exog), freq=\"D\")"
   ]
  },
  {
   "cell_type": "code",
   "execution_count": null,
   "id": "ad813497-687b-414a-9fd4-a232120eb603",
   "metadata": {},
   "outputs": [],
   "source": [
    "raise KeyboardInterrupt"
   ]
  },
  {
   "cell_type": "code",
   "execution_count": null,
   "id": "81af029f-d49d-4929-b673-dfdc67db9880",
   "metadata": {},
   "outputs": [],
   "source": []
  },
  {
   "cell_type": "markdown",
   "id": "b95b5b0a-7276-4ff2-97e9-fce7dc3ae51f",
   "metadata": {},
   "source": [
    "# (12-20) Snippet from ETNA developers"
   ]
  },
  {
   "cell_type": "code",
   "execution_count": null,
   "id": "c0218d77-e41a-4d51-a9f3-30bf71ae7ae9",
   "metadata": {},
   "outputs": [],
   "source": [
    "import pandas as pd\n",
    "import numpy as np\n",
    "\n",
    "from etna.pipeline import Pipeline\n",
    "from etna.models import CatBoostPerSegmentModel\n",
    "from etna.datasets import TSDataset\n",
    "from etna.metrics import MAE\n",
    "\n",
    "\n",
    "#def main():\n",
    "rng = np.random.default_rng(0)\n",
    "df_exog = pd.DataFrame({\n",
    "    \"timestamp\": pd.date_range(start=\"2020-01-01\", periods=100, freq=\"D\"),\n",
    "    \"segment\": [\"segment_0\"]*100,\n",
    "    \"feature_1\": rng.normal(size=100),\n",
    "    \"feature_2\": rng.normal(size=100),\n",
    "})\n",
    "df = df_exog.copy()\n",
    "df[\"target\"] = df[\"feature_1\"] + df[\"feature_2\"] + rng.normal(scale=0.01)\n",
    "df = df.drop(columns=[\"feature_1\", \"feature_2\"])\n",
    "\n",
    "print(df)\n",
    "print(df_exog)\n",
    "\n",
    "ts = TSDataset(df=TSDataset.to_dataset(df), df_exog=TSDataset.to_dataset(df_exog), freq=\"D\")\n",
    "\n",
    "pipeline = Pipeline(\n",
    "    model=CatBoostPerSegmentModel(random_state=42),\n",
    "    transforms=[],\n",
    "    horizon=1\n",
    ")\n",
    "df_metrics, df_forecast, df_fold_info = pipeline.backtest(\n",
    "    ts=ts, metrics=[MAE()],\n",
    "    n_folds=2,\n",
    ")\n",
    "\n",
    "\n",
    "# if __name__ == \"__main__\":\n",
    "#     main()\n",
    "\n",
    "#main()"
   ]
  },
  {
   "cell_type": "code",
   "execution_count": null,
   "id": "952c9613-81b2-4b1a-b3a7-588c2e080323",
   "metadata": {},
   "outputs": [],
   "source": [
    "df_metrics"
   ]
  },
  {
   "cell_type": "code",
   "execution_count": null,
   "id": "090c0c74-2f17-4f0b-b726-edcc440d25e4",
   "metadata": {},
   "outputs": [],
   "source": [
    "df_forecast"
   ]
  },
  {
   "cell_type": "code",
   "execution_count": null,
   "id": "b7fbe9ab-a732-452a-9b34-df5016d7522c",
   "metadata": {},
   "outputs": [],
   "source": []
  }
 ],
 "metadata": {
  "kernelspec": {
   "display_name": "Python 3 (ipykernel)",
   "language": "python",
   "name": "python3"
  },
  "language_info": {
   "codemirror_mode": {
    "name": "ipython",
    "version": 3
   },
   "file_extension": ".py",
   "mimetype": "text/x-python",
   "name": "python",
   "nbconvert_exporter": "python",
   "pygments_lexer": "ipython3",
   "version": "3.10.13"
  }
 },
 "nbformat": 4,
 "nbformat_minor": 5
}
